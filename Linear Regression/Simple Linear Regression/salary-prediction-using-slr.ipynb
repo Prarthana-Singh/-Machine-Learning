{
 "cells": [
  {
   "cell_type": "code",
   "execution_count": 1,
   "id": "e3d3b4d6",
   "metadata": {
    "_cell_guid": "b1076dfc-b9ad-4769-8c92-a6c4dae69d19",
    "_uuid": "8f2839f25d086af736a60e9eeb907d3b93b6e0e5",
    "execution": {
     "iopub.execute_input": "2024-10-20T13:15:18.278496Z",
     "iopub.status.busy": "2024-10-20T13:15:18.277364Z",
     "iopub.status.idle": "2024-10-20T13:15:19.268818Z",
     "shell.execute_reply": "2024-10-20T13:15:19.267444Z"
    },
    "papermill": {
     "duration": 1.005926,
     "end_time": "2024-10-20T13:15:19.272171",
     "exception": false,
     "start_time": "2024-10-20T13:15:18.266245",
     "status": "completed"
    },
    "tags": []
   },
   "outputs": [
    {
     "name": "stdout",
     "output_type": "stream",
     "text": [
      "/kaggle/input/salary-dataset-simple-linear-regression/Salary_dataset.csv\n"
     ]
    }
   ],
   "source": [
    "# This Python 3 environment comes with many helpful analytics libraries installed\n",
    "# It is defined by the kaggle/python Docker image: https://github.com/kaggle/docker-python\n",
    "# For example, here's several helpful packages to load\n",
    "\n",
    "import numpy as np # linear algebra\n",
    "import pandas as pd # data processing, CSV file I/O (e.g. pd.read_csv)\n",
    "\n",
    "# Input data files are available in the read-only \"../input/\" directory\n",
    "# For example, running this (by clicking run or pressing Shift+Enter) will list all files under the input directory\n",
    "\n",
    "import os\n",
    "for dirname, _, filenames in os.walk('/kaggle/input'):\n",
    "    for filename in filenames:\n",
    "        print(os.path.join(dirname, filename))\n",
    "\n",
    "# You can write up to 20GB to the current directory (/kaggle/working/) that gets preserved as output when you create a version using \"Save & Run All\" \n",
    "# You can also write temporary files to /kaggle/temp/, but they won't be saved outside of the current session"
   ]
  },
  {
   "cell_type": "code",
   "execution_count": 2,
   "id": "352b1335",
   "metadata": {
    "execution": {
     "iopub.execute_input": "2024-10-20T13:15:19.292435Z",
     "iopub.status.busy": "2024-10-20T13:15:19.291868Z",
     "iopub.status.idle": "2024-10-20T13:15:21.863010Z",
     "shell.execute_reply": "2024-10-20T13:15:21.861787Z"
    },
    "papermill": {
     "duration": 2.583759,
     "end_time": "2024-10-20T13:15:21.865695",
     "exception": false,
     "start_time": "2024-10-20T13:15:19.281936",
     "status": "completed"
    },
    "tags": []
   },
   "outputs": [],
   "source": [
    "import matplotlib.pyplot as plt\n",
    "import seaborn as sns\n",
    "import plotly.express as ex"
   ]
  },
  {
   "cell_type": "code",
   "execution_count": 3,
   "id": "069408a1",
   "metadata": {
    "execution": {
     "iopub.execute_input": "2024-10-20T13:15:21.885042Z",
     "iopub.status.busy": "2024-10-20T13:15:21.884395Z",
     "iopub.status.idle": "2024-10-20T13:15:21.901929Z",
     "shell.execute_reply": "2024-10-20T13:15:21.900857Z"
    },
    "papermill": {
     "duration": 0.030359,
     "end_time": "2024-10-20T13:15:21.904608",
     "exception": false,
     "start_time": "2024-10-20T13:15:21.874249",
     "status": "completed"
    },
    "tags": []
   },
   "outputs": [],
   "source": [
    "data = pd.read_csv('/kaggle/input/salary-dataset-simple-linear-regression/Salary_dataset.csv')"
   ]
  },
  {
   "cell_type": "code",
   "execution_count": 4,
   "id": "e7eecfc7",
   "metadata": {
    "execution": {
     "iopub.execute_input": "2024-10-20T13:15:21.925011Z",
     "iopub.status.busy": "2024-10-20T13:15:21.924155Z",
     "iopub.status.idle": "2024-10-20T13:15:21.959326Z",
     "shell.execute_reply": "2024-10-20T13:15:21.958196Z"
    },
    "papermill": {
     "duration": 0.047665,
     "end_time": "2024-10-20T13:15:21.961792",
     "exception": false,
     "start_time": "2024-10-20T13:15:21.914127",
     "status": "completed"
    },
    "tags": []
   },
   "outputs": [
    {
     "data": {
      "text/html": [
       "<div>\n",
       "<style scoped>\n",
       "    .dataframe tbody tr th:only-of-type {\n",
       "        vertical-align: middle;\n",
       "    }\n",
       "\n",
       "    .dataframe tbody tr th {\n",
       "        vertical-align: top;\n",
       "    }\n",
       "\n",
       "    .dataframe thead th {\n",
       "        text-align: right;\n",
       "    }\n",
       "</style>\n",
       "<table border=\"1\" class=\"dataframe\">\n",
       "  <thead>\n",
       "    <tr style=\"text-align: right;\">\n",
       "      <th></th>\n",
       "      <th>Unnamed: 0</th>\n",
       "      <th>YearsExperience</th>\n",
       "      <th>Salary</th>\n",
       "    </tr>\n",
       "  </thead>\n",
       "  <tbody>\n",
       "    <tr>\n",
       "      <th>18</th>\n",
       "      <td>18</td>\n",
       "      <td>6.0</td>\n",
       "      <td>81364.0</td>\n",
       "    </tr>\n",
       "    <tr>\n",
       "      <th>21</th>\n",
       "      <td>21</td>\n",
       "      <td>7.2</td>\n",
       "      <td>98274.0</td>\n",
       "    </tr>\n",
       "    <tr>\n",
       "      <th>8</th>\n",
       "      <td>8</td>\n",
       "      <td>3.3</td>\n",
       "      <td>64446.0</td>\n",
       "    </tr>\n",
       "    <tr>\n",
       "      <th>4</th>\n",
       "      <td>4</td>\n",
       "      <td>2.3</td>\n",
       "      <td>39892.0</td>\n",
       "    </tr>\n",
       "    <tr>\n",
       "      <th>19</th>\n",
       "      <td>19</td>\n",
       "      <td>6.1</td>\n",
       "      <td>93941.0</td>\n",
       "    </tr>\n",
       "  </tbody>\n",
       "</table>\n",
       "</div>"
      ],
      "text/plain": [
       "    Unnamed: 0  YearsExperience   Salary\n",
       "18          18              6.0  81364.0\n",
       "21          21              7.2  98274.0\n",
       "8            8              3.3  64446.0\n",
       "4            4              2.3  39892.0\n",
       "19          19              6.1  93941.0"
      ]
     },
     "execution_count": 4,
     "metadata": {},
     "output_type": "execute_result"
    }
   ],
   "source": [
    "data.sample(5)"
   ]
  },
  {
   "cell_type": "code",
   "execution_count": 5,
   "id": "7fcd9047",
   "metadata": {
    "execution": {
     "iopub.execute_input": "2024-10-20T13:15:21.981417Z",
     "iopub.status.busy": "2024-10-20T13:15:21.980531Z",
     "iopub.status.idle": "2024-10-20T13:15:21.987706Z",
     "shell.execute_reply": "2024-10-20T13:15:21.986619Z"
    },
    "papermill": {
     "duration": 0.019354,
     "end_time": "2024-10-20T13:15:21.990100",
     "exception": false,
     "start_time": "2024-10-20T13:15:21.970746",
     "status": "completed"
    },
    "tags": []
   },
   "outputs": [
    {
     "data": {
      "text/plain": [
       "(30, 3)"
      ]
     },
     "execution_count": 5,
     "metadata": {},
     "output_type": "execute_result"
    }
   ],
   "source": [
    "data.shape # check how many rows and columns in the dataset"
   ]
  },
  {
   "cell_type": "code",
   "execution_count": 6,
   "id": "4350b984",
   "metadata": {
    "execution": {
     "iopub.execute_input": "2024-10-20T13:15:22.009333Z",
     "iopub.status.busy": "2024-10-20T13:15:22.008945Z",
     "iopub.status.idle": "2024-10-20T13:15:22.015250Z",
     "shell.execute_reply": "2024-10-20T13:15:22.014128Z"
    },
    "papermill": {
     "duration": 0.018886,
     "end_time": "2024-10-20T13:15:22.017787",
     "exception": false,
     "start_time": "2024-10-20T13:15:21.998901",
     "status": "completed"
    },
    "tags": []
   },
   "outputs": [],
   "source": [
    "# Drop unecessary column\n",
    "data.drop('Unnamed: 0',axis=1,inplace=True)"
   ]
  },
  {
   "cell_type": "code",
   "execution_count": 7,
   "id": "c4811e51",
   "metadata": {
    "execution": {
     "iopub.execute_input": "2024-10-20T13:15:22.038351Z",
     "iopub.status.busy": "2024-10-20T13:15:22.037365Z",
     "iopub.status.idle": "2024-10-20T13:15:22.049052Z",
     "shell.execute_reply": "2024-10-20T13:15:22.047812Z"
    },
    "papermill": {
     "duration": 0.024305,
     "end_time": "2024-10-20T13:15:22.051515",
     "exception": false,
     "start_time": "2024-10-20T13:15:22.027210",
     "status": "completed"
    },
    "tags": []
   },
   "outputs": [
    {
     "data": {
      "text/html": [
       "<div>\n",
       "<style scoped>\n",
       "    .dataframe tbody tr th:only-of-type {\n",
       "        vertical-align: middle;\n",
       "    }\n",
       "\n",
       "    .dataframe tbody tr th {\n",
       "        vertical-align: top;\n",
       "    }\n",
       "\n",
       "    .dataframe thead th {\n",
       "        text-align: right;\n",
       "    }\n",
       "</style>\n",
       "<table border=\"1\" class=\"dataframe\">\n",
       "  <thead>\n",
       "    <tr style=\"text-align: right;\">\n",
       "      <th></th>\n",
       "      <th>YearsExperience</th>\n",
       "      <th>Salary</th>\n",
       "    </tr>\n",
       "  </thead>\n",
       "  <tbody>\n",
       "    <tr>\n",
       "      <th>0</th>\n",
       "      <td>1.2</td>\n",
       "      <td>39344.0</td>\n",
       "    </tr>\n",
       "    <tr>\n",
       "      <th>1</th>\n",
       "      <td>1.4</td>\n",
       "      <td>46206.0</td>\n",
       "    </tr>\n",
       "    <tr>\n",
       "      <th>2</th>\n",
       "      <td>1.6</td>\n",
       "      <td>37732.0</td>\n",
       "    </tr>\n",
       "  </tbody>\n",
       "</table>\n",
       "</div>"
      ],
      "text/plain": [
       "   YearsExperience   Salary\n",
       "0              1.2  39344.0\n",
       "1              1.4  46206.0\n",
       "2              1.6  37732.0"
      ]
     },
     "execution_count": 7,
     "metadata": {},
     "output_type": "execute_result"
    }
   ],
   "source": [
    "data.head(3) "
   ]
  },
  {
   "cell_type": "code",
   "execution_count": 8,
   "id": "7a430c02",
   "metadata": {
    "execution": {
     "iopub.execute_input": "2024-10-20T13:15:22.071257Z",
     "iopub.status.busy": "2024-10-20T13:15:22.070273Z",
     "iopub.status.idle": "2024-10-20T13:15:22.079237Z",
     "shell.execute_reply": "2024-10-20T13:15:22.077980Z"
    },
    "papermill": {
     "duration": 0.021181,
     "end_time": "2024-10-20T13:15:22.081641",
     "exception": false,
     "start_time": "2024-10-20T13:15:22.060460",
     "status": "completed"
    },
    "tags": []
   },
   "outputs": [
    {
     "data": {
      "text/plain": [
       "YearsExperience    0\n",
       "Salary             0\n",
       "dtype: int64"
      ]
     },
     "execution_count": 8,
     "metadata": {},
     "output_type": "execute_result"
    }
   ],
   "source": [
    "data.isnull().sum() # Check null values are present or not"
   ]
  },
  {
   "cell_type": "code",
   "execution_count": 9,
   "id": "b6eeced2",
   "metadata": {
    "execution": {
     "iopub.execute_input": "2024-10-20T13:15:22.101296Z",
     "iopub.status.busy": "2024-10-20T13:15:22.100850Z",
     "iopub.status.idle": "2024-10-20T13:15:22.112858Z",
     "shell.execute_reply": "2024-10-20T13:15:22.111637Z"
    },
    "papermill": {
     "duration": 0.024688,
     "end_time": "2024-10-20T13:15:22.115229",
     "exception": false,
     "start_time": "2024-10-20T13:15:22.090541",
     "status": "completed"
    },
    "tags": []
   },
   "outputs": [
    {
     "data": {
      "text/plain": [
       "0"
      ]
     },
     "execution_count": 9,
     "metadata": {},
     "output_type": "execute_result"
    }
   ],
   "source": [
    "data.duplicated().sum() # Check for duplicates"
   ]
  },
  {
   "cell_type": "markdown",
   "id": "bf21346d",
   "metadata": {
    "papermill": {
     "duration": 0.008505,
     "end_time": "2024-10-20T13:15:22.132815",
     "exception": false,
     "start_time": "2024-10-20T13:15:22.124310",
     "status": "completed"
    },
    "tags": []
   },
   "source": [
    "# **The .info() method helps you quickly check the structure of a DataFrame, including missing values and the type of data you're dealing with.**"
   ]
  },
  {
   "cell_type": "code",
   "execution_count": 10,
   "id": "3b0dd24f",
   "metadata": {
    "execution": {
     "iopub.execute_input": "2024-10-20T13:15:22.153550Z",
     "iopub.status.busy": "2024-10-20T13:15:22.152481Z",
     "iopub.status.idle": "2024-10-20T13:15:22.176035Z",
     "shell.execute_reply": "2024-10-20T13:15:22.174826Z"
    },
    "papermill": {
     "duration": 0.036832,
     "end_time": "2024-10-20T13:15:22.178641",
     "exception": false,
     "start_time": "2024-10-20T13:15:22.141809",
     "status": "completed"
    },
    "tags": []
   },
   "outputs": [
    {
     "name": "stdout",
     "output_type": "stream",
     "text": [
      "<class 'pandas.core.frame.DataFrame'>\n",
      "RangeIndex: 30 entries, 0 to 29\n",
      "Data columns (total 2 columns):\n",
      " #   Column           Non-Null Count  Dtype  \n",
      "---  ------           --------------  -----  \n",
      " 0   YearsExperience  30 non-null     float64\n",
      " 1   Salary           30 non-null     float64\n",
      "dtypes: float64(2)\n",
      "memory usage: 608.0 bytes\n"
     ]
    }
   ],
   "source": [
    "data.info()"
   ]
  },
  {
   "cell_type": "code",
   "execution_count": 11,
   "id": "35cfe346",
   "metadata": {
    "execution": {
     "iopub.execute_input": "2024-10-20T13:15:22.198454Z",
     "iopub.status.busy": "2024-10-20T13:15:22.197997Z",
     "iopub.status.idle": "2024-10-20T13:15:22.216187Z",
     "shell.execute_reply": "2024-10-20T13:15:22.215085Z"
    },
    "papermill": {
     "duration": 0.03096,
     "end_time": "2024-10-20T13:15:22.218777",
     "exception": false,
     "start_time": "2024-10-20T13:15:22.187817",
     "status": "completed"
    },
    "tags": []
   },
   "outputs": [
    {
     "data": {
      "text/html": [
       "<div>\n",
       "<style scoped>\n",
       "    .dataframe tbody tr th:only-of-type {\n",
       "        vertical-align: middle;\n",
       "    }\n",
       "\n",
       "    .dataframe tbody tr th {\n",
       "        vertical-align: top;\n",
       "    }\n",
       "\n",
       "    .dataframe thead th {\n",
       "        text-align: right;\n",
       "    }\n",
       "</style>\n",
       "<table border=\"1\" class=\"dataframe\">\n",
       "  <thead>\n",
       "    <tr style=\"text-align: right;\">\n",
       "      <th></th>\n",
       "      <th>YearsExperience</th>\n",
       "      <th>Salary</th>\n",
       "    </tr>\n",
       "  </thead>\n",
       "  <tbody>\n",
       "    <tr>\n",
       "      <th>count</th>\n",
       "      <td>30.000000</td>\n",
       "      <td>30.000000</td>\n",
       "    </tr>\n",
       "    <tr>\n",
       "      <th>mean</th>\n",
       "      <td>5.413333</td>\n",
       "      <td>76004.000000</td>\n",
       "    </tr>\n",
       "    <tr>\n",
       "      <th>std</th>\n",
       "      <td>2.837888</td>\n",
       "      <td>27414.429785</td>\n",
       "    </tr>\n",
       "    <tr>\n",
       "      <th>min</th>\n",
       "      <td>1.200000</td>\n",
       "      <td>37732.000000</td>\n",
       "    </tr>\n",
       "    <tr>\n",
       "      <th>25%</th>\n",
       "      <td>3.300000</td>\n",
       "      <td>56721.750000</td>\n",
       "    </tr>\n",
       "    <tr>\n",
       "      <th>50%</th>\n",
       "      <td>4.800000</td>\n",
       "      <td>65238.000000</td>\n",
       "    </tr>\n",
       "    <tr>\n",
       "      <th>75%</th>\n",
       "      <td>7.800000</td>\n",
       "      <td>100545.750000</td>\n",
       "    </tr>\n",
       "    <tr>\n",
       "      <th>max</th>\n",
       "      <td>10.600000</td>\n",
       "      <td>122392.000000</td>\n",
       "    </tr>\n",
       "  </tbody>\n",
       "</table>\n",
       "</div>"
      ],
      "text/plain": [
       "       YearsExperience         Salary\n",
       "count        30.000000      30.000000\n",
       "mean          5.413333   76004.000000\n",
       "std           2.837888   27414.429785\n",
       "min           1.200000   37732.000000\n",
       "25%           3.300000   56721.750000\n",
       "50%           4.800000   65238.000000\n",
       "75%           7.800000  100545.750000\n",
       "max          10.600000  122392.000000"
      ]
     },
     "execution_count": 11,
     "metadata": {},
     "output_type": "execute_result"
    }
   ],
   "source": [
    "data.describe(include='all')"
   ]
  },
  {
   "cell_type": "code",
   "execution_count": 12,
   "id": "32abb92e",
   "metadata": {
    "execution": {
     "iopub.execute_input": "2024-10-20T13:15:22.239337Z",
     "iopub.status.busy": "2024-10-20T13:15:22.238934Z",
     "iopub.status.idle": "2024-10-20T13:15:22.250156Z",
     "shell.execute_reply": "2024-10-20T13:15:22.249150Z"
    },
    "papermill": {
     "duration": 0.023942,
     "end_time": "2024-10-20T13:15:22.252568",
     "exception": false,
     "start_time": "2024-10-20T13:15:22.228626",
     "status": "completed"
    },
    "tags": []
   },
   "outputs": [
    {
     "data": {
      "text/plain": [
       "YearsExperience\n",
       "3.3     2\n",
       "4.1     2\n",
       "1.2     1\n",
       "5.4     1\n",
       "10.4    1\n",
       "9.7     1\n",
       "9.6     1\n",
       "9.1     1\n",
       "8.8     1\n",
       "8.3     1\n",
       "8.0     1\n",
       "7.2     1\n",
       "6.9     1\n",
       "6.1     1\n",
       "6.0     1\n",
       "5.2     1\n",
       "1.4     1\n",
       "5.0     1\n",
       "4.6     1\n",
       "4.2     1\n",
       "4.0     1\n",
       "3.8     1\n",
       "3.1     1\n",
       "3.0     1\n",
       "2.3     1\n",
       "2.1     1\n",
       "1.6     1\n",
       "10.6    1\n",
       "Name: count, dtype: int64"
      ]
     },
     "execution_count": 12,
     "metadata": {},
     "output_type": "execute_result"
    }
   ],
   "source": [
    "data['YearsExperience'].value_counts()"
   ]
  },
  {
   "cell_type": "markdown",
   "id": "ff44deaf",
   "metadata": {
    "papermill": {
     "duration": 0.008917,
     "end_time": "2024-10-20T13:15:22.270943",
     "exception": false,
     "start_time": "2024-10-20T13:15:22.262026",
     "status": "completed"
    },
    "tags": []
   },
   "source": [
    "# Checking for unique values to decide if we need to drop any column"
   ]
  },
  {
   "cell_type": "code",
   "execution_count": 13,
   "id": "20aae047",
   "metadata": {
    "execution": {
     "iopub.execute_input": "2024-10-20T13:15:22.291353Z",
     "iopub.status.busy": "2024-10-20T13:15:22.290942Z",
     "iopub.status.idle": "2024-10-20T13:15:22.299752Z",
     "shell.execute_reply": "2024-10-20T13:15:22.298702Z"
    },
    "papermill": {
     "duration": 0.021752,
     "end_time": "2024-10-20T13:15:22.302198",
     "exception": false,
     "start_time": "2024-10-20T13:15:22.280446",
     "status": "completed"
    },
    "tags": []
   },
   "outputs": [
    {
     "data": {
      "text/plain": [
       "YearsExperience    28\n",
       "Salary             30\n",
       "dtype: int64"
      ]
     },
     "execution_count": 13,
     "metadata": {},
     "output_type": "execute_result"
    }
   ],
   "source": [
    "data.nunique()"
   ]
  },
  {
   "cell_type": "markdown",
   "id": "ae55ae0c",
   "metadata": {
    "papermill": {
     "duration": 0.009029,
     "end_time": "2024-10-20T13:15:22.320690",
     "exception": false,
     "start_time": "2024-10-20T13:15:22.311661",
     "status": "completed"
    },
    "tags": []
   },
   "source": [
    "# Visualizing the dataset properly¶\r\n"
   ]
  },
  {
   "cell_type": "code",
   "execution_count": 14,
   "id": "6235171f",
   "metadata": {
    "execution": {
     "iopub.execute_input": "2024-10-20T13:15:22.341710Z",
     "iopub.status.busy": "2024-10-20T13:15:22.340757Z",
     "iopub.status.idle": "2024-10-20T13:15:26.409945Z",
     "shell.execute_reply": "2024-10-20T13:15:26.408640Z"
    },
    "papermill": {
     "duration": 4.082493,
     "end_time": "2024-10-20T13:15:26.412663",
     "exception": false,
     "start_time": "2024-10-20T13:15:22.330170",
     "status": "completed"
    },
    "tags": []
   },
   "outputs": [
    {
     "data": {
      "text/html": [
       "        <script type=\"text/javascript\">\n",
       "        window.PlotlyConfig = {MathJaxConfig: 'local'};\n",
       "        if (window.MathJax && window.MathJax.Hub && window.MathJax.Hub.Config) {window.MathJax.Hub.Config({SVG: {font: \"STIX-Web\"}});}\n",
       "        if (typeof require !== 'undefined') {\n",
       "        require.undef(\"plotly\");\n",
       "        requirejs.config({\n",
       "            paths: {\n",
       "                'plotly': ['https://cdn.plot.ly/plotly-2.32.0.min']\n",
       "            }\n",
       "        });\n",
       "        require(['plotly'], function(Plotly) {\n",
       "            window._Plotly = Plotly;\n",
       "        });\n",
       "        }\n",
       "        </script>\n",
       "        "
      ]
     },
     "metadata": {},
     "output_type": "display_data"
    },
    {
     "data": {
      "text/html": [
       "<div>                            <div id=\"c5f5ee9b-3086-41d8-8b5f-e22480b73a15\" class=\"plotly-graph-div\" style=\"height:525px; width:100%;\"></div>            <script type=\"text/javascript\">                require([\"plotly\"], function(Plotly) {                    window.PLOTLYENV=window.PLOTLYENV || {};                                    if (document.getElementById(\"c5f5ee9b-3086-41d8-8b5f-e22480b73a15\")) {                    Plotly.newPlot(                        \"c5f5ee9b-3086-41d8-8b5f-e22480b73a15\",                        [{\"hovertemplate\":\"YearsExperience=%{marker.size}\\u003cbr\\u003eSalary=%{y}\\u003cextra\\u003e\\u003c\\u002fextra\\u003e\",\"legendgroup\":\"\",\"marker\":{\"color\":\"#636efa\",\"size\":[1.2000000000000002,1.4,1.6,2.1,2.3000000000000003,3.0,3.1,3.3000000000000003,3.3000000000000003,3.8,4.0,4.1,4.1,4.199999999999999,4.6,5.0,5.199999999999999,5.4,6.0,6.1,6.9,7.199999999999999,8.0,8.299999999999999,8.799999999999999,9.1,9.6,9.7,10.4,10.6],\"sizemode\":\"area\",\"sizeref\":0.0265,\"symbol\":\"circle\"},\"mode\":\"markers\",\"name\":\"\",\"orientation\":\"v\",\"showlegend\":false,\"x\":[1.2000000000000002,1.4,1.6,2.1,2.3000000000000003,3.0,3.1,3.3000000000000003,3.3000000000000003,3.8,4.0,4.1,4.1,4.199999999999999,4.6,5.0,5.199999999999999,5.4,6.0,6.1,6.9,7.199999999999999,8.0,8.299999999999999,8.799999999999999,9.1,9.6,9.7,10.4,10.6],\"xaxis\":\"x\",\"y\":[39344.0,46206.0,37732.0,43526.0,39892.0,56643.0,60151.0,54446.0,64446.0,57190.0,63219.0,55795.0,56958.0,57082.0,61112.0,67939.0,66030.0,83089.0,81364.0,93941.0,91739.0,98274.0,101303.0,113813.0,109432.0,105583.0,116970.0,112636.0,122392.0,121873.0],\"yaxis\":\"y\",\"type\":\"scatter\"},{\"hovertemplate\":\"\\u003cb\\u003eOLS trendline\\u003c\\u002fb\\u003e\\u003cbr\\u003eSalary = 9449.96 * YearsExperience + 24848.2\\u003cbr\\u003eR\\u003csup\\u003e2\\u003c\\u002fsup\\u003e=0.956957\\u003cbr\\u003e\\u003cbr\\u003eYearsExperience=%{x}\\u003cbr\\u003eSalary=%{y} \\u003cb\\u003e(trend)\\u003c\\u002fb\\u003e\\u003cextra\\u003e\\u003c\\u002fextra\\u003e\",\"legendgroup\":\"\",\"marker\":{\"color\":\"#636efa\",\"symbol\":\"circle\"},\"mode\":\"lines\",\"name\":\"\",\"showlegend\":false,\"x\":[1.2000000000000002,1.4,1.6,2.1,2.3000000000000003,3.0,3.1,3.3000000000000003,3.3000000000000003,3.8,4.0,4.1,4.1,4.199999999999999,4.6,5.0,5.199999999999999,5.4,6.0,6.1,6.9,7.199999999999999,8.0,8.299999999999999,8.799999999999999,9.1,9.6,9.7,10.4,10.6],\"xaxis\":\"x\",\"y\":[36188.158752269286,38078.1512165603,39968.14368085131,44693.12484157885,46583.11730586986,53198.090930888415,54143.087163033924,56033.07962732494,56033.07962732494,60758.06078805247,62648.05325234349,63593.04948448899,63593.04948448899,64538.04571663449,68318.03064521652,72098.01557379856,73988.00803808957,75878.0005023806,81547.97789525363,82492.97412739914,90052.9439845632,92887.93268099971,100447.90253816379,103282.8912346003,108007.87239532784,110842.86109176435,115567.84225249189,116512.83848463741,123127.81210965596,125017.80457394698],\"yaxis\":\"y\",\"type\":\"scatter\"}],                        {\"template\":{\"data\":{\"histogram2dcontour\":[{\"type\":\"histogram2dcontour\",\"colorbar\":{\"outlinewidth\":0,\"ticks\":\"\"},\"colorscale\":[[0.0,\"#0d0887\"],[0.1111111111111111,\"#46039f\"],[0.2222222222222222,\"#7201a8\"],[0.3333333333333333,\"#9c179e\"],[0.4444444444444444,\"#bd3786\"],[0.5555555555555556,\"#d8576b\"],[0.6666666666666666,\"#ed7953\"],[0.7777777777777778,\"#fb9f3a\"],[0.8888888888888888,\"#fdca26\"],[1.0,\"#f0f921\"]]}],\"choropleth\":[{\"type\":\"choropleth\",\"colorbar\":{\"outlinewidth\":0,\"ticks\":\"\"}}],\"histogram2d\":[{\"type\":\"histogram2d\",\"colorbar\":{\"outlinewidth\":0,\"ticks\":\"\"},\"colorscale\":[[0.0,\"#0d0887\"],[0.1111111111111111,\"#46039f\"],[0.2222222222222222,\"#7201a8\"],[0.3333333333333333,\"#9c179e\"],[0.4444444444444444,\"#bd3786\"],[0.5555555555555556,\"#d8576b\"],[0.6666666666666666,\"#ed7953\"],[0.7777777777777778,\"#fb9f3a\"],[0.8888888888888888,\"#fdca26\"],[1.0,\"#f0f921\"]]}],\"heatmap\":[{\"type\":\"heatmap\",\"colorbar\":{\"outlinewidth\":0,\"ticks\":\"\"},\"colorscale\":[[0.0,\"#0d0887\"],[0.1111111111111111,\"#46039f\"],[0.2222222222222222,\"#7201a8\"],[0.3333333333333333,\"#9c179e\"],[0.4444444444444444,\"#bd3786\"],[0.5555555555555556,\"#d8576b\"],[0.6666666666666666,\"#ed7953\"],[0.7777777777777778,\"#fb9f3a\"],[0.8888888888888888,\"#fdca26\"],[1.0,\"#f0f921\"]]}],\"heatmapgl\":[{\"type\":\"heatmapgl\",\"colorbar\":{\"outlinewidth\":0,\"ticks\":\"\"},\"colorscale\":[[0.0,\"#0d0887\"],[0.1111111111111111,\"#46039f\"],[0.2222222222222222,\"#7201a8\"],[0.3333333333333333,\"#9c179e\"],[0.4444444444444444,\"#bd3786\"],[0.5555555555555556,\"#d8576b\"],[0.6666666666666666,\"#ed7953\"],[0.7777777777777778,\"#fb9f3a\"],[0.8888888888888888,\"#fdca26\"],[1.0,\"#f0f921\"]]}],\"contourcarpet\":[{\"type\":\"contourcarpet\",\"colorbar\":{\"outlinewidth\":0,\"ticks\":\"\"}}],\"contour\":[{\"type\":\"contour\",\"colorbar\":{\"outlinewidth\":0,\"ticks\":\"\"},\"colorscale\":[[0.0,\"#0d0887\"],[0.1111111111111111,\"#46039f\"],[0.2222222222222222,\"#7201a8\"],[0.3333333333333333,\"#9c179e\"],[0.4444444444444444,\"#bd3786\"],[0.5555555555555556,\"#d8576b\"],[0.6666666666666666,\"#ed7953\"],[0.7777777777777778,\"#fb9f3a\"],[0.8888888888888888,\"#fdca26\"],[1.0,\"#f0f921\"]]}],\"surface\":[{\"type\":\"surface\",\"colorbar\":{\"outlinewidth\":0,\"ticks\":\"\"},\"colorscale\":[[0.0,\"#0d0887\"],[0.1111111111111111,\"#46039f\"],[0.2222222222222222,\"#7201a8\"],[0.3333333333333333,\"#9c179e\"],[0.4444444444444444,\"#bd3786\"],[0.5555555555555556,\"#d8576b\"],[0.6666666666666666,\"#ed7953\"],[0.7777777777777778,\"#fb9f3a\"],[0.8888888888888888,\"#fdca26\"],[1.0,\"#f0f921\"]]}],\"mesh3d\":[{\"type\":\"mesh3d\",\"colorbar\":{\"outlinewidth\":0,\"ticks\":\"\"}}],\"scatter\":[{\"fillpattern\":{\"fillmode\":\"overlay\",\"size\":10,\"solidity\":0.2},\"type\":\"scatter\"}],\"parcoords\":[{\"type\":\"parcoords\",\"line\":{\"colorbar\":{\"outlinewidth\":0,\"ticks\":\"\"}}}],\"scatterpolargl\":[{\"type\":\"scatterpolargl\",\"marker\":{\"colorbar\":{\"outlinewidth\":0,\"ticks\":\"\"}}}],\"bar\":[{\"error_x\":{\"color\":\"#2a3f5f\"},\"error_y\":{\"color\":\"#2a3f5f\"},\"marker\":{\"line\":{\"color\":\"#E5ECF6\",\"width\":0.5},\"pattern\":{\"fillmode\":\"overlay\",\"size\":10,\"solidity\":0.2}},\"type\":\"bar\"}],\"scattergeo\":[{\"type\":\"scattergeo\",\"marker\":{\"colorbar\":{\"outlinewidth\":0,\"ticks\":\"\"}}}],\"scatterpolar\":[{\"type\":\"scatterpolar\",\"marker\":{\"colorbar\":{\"outlinewidth\":0,\"ticks\":\"\"}}}],\"histogram\":[{\"marker\":{\"pattern\":{\"fillmode\":\"overlay\",\"size\":10,\"solidity\":0.2}},\"type\":\"histogram\"}],\"scattergl\":[{\"type\":\"scattergl\",\"marker\":{\"colorbar\":{\"outlinewidth\":0,\"ticks\":\"\"}}}],\"scatter3d\":[{\"type\":\"scatter3d\",\"line\":{\"colorbar\":{\"outlinewidth\":0,\"ticks\":\"\"}},\"marker\":{\"colorbar\":{\"outlinewidth\":0,\"ticks\":\"\"}}}],\"scattermapbox\":[{\"type\":\"scattermapbox\",\"marker\":{\"colorbar\":{\"outlinewidth\":0,\"ticks\":\"\"}}}],\"scatterternary\":[{\"type\":\"scatterternary\",\"marker\":{\"colorbar\":{\"outlinewidth\":0,\"ticks\":\"\"}}}],\"scattercarpet\":[{\"type\":\"scattercarpet\",\"marker\":{\"colorbar\":{\"outlinewidth\":0,\"ticks\":\"\"}}}],\"carpet\":[{\"aaxis\":{\"endlinecolor\":\"#2a3f5f\",\"gridcolor\":\"white\",\"linecolor\":\"white\",\"minorgridcolor\":\"white\",\"startlinecolor\":\"#2a3f5f\"},\"baxis\":{\"endlinecolor\":\"#2a3f5f\",\"gridcolor\":\"white\",\"linecolor\":\"white\",\"minorgridcolor\":\"white\",\"startlinecolor\":\"#2a3f5f\"},\"type\":\"carpet\"}],\"table\":[{\"cells\":{\"fill\":{\"color\":\"#EBF0F8\"},\"line\":{\"color\":\"white\"}},\"header\":{\"fill\":{\"color\":\"#C8D4E3\"},\"line\":{\"color\":\"white\"}},\"type\":\"table\"}],\"barpolar\":[{\"marker\":{\"line\":{\"color\":\"#E5ECF6\",\"width\":0.5},\"pattern\":{\"fillmode\":\"overlay\",\"size\":10,\"solidity\":0.2}},\"type\":\"barpolar\"}],\"pie\":[{\"automargin\":true,\"type\":\"pie\"}]},\"layout\":{\"autotypenumbers\":\"strict\",\"colorway\":[\"#636efa\",\"#EF553B\",\"#00cc96\",\"#ab63fa\",\"#FFA15A\",\"#19d3f3\",\"#FF6692\",\"#B6E880\",\"#FF97FF\",\"#FECB52\"],\"font\":{\"color\":\"#2a3f5f\"},\"hovermode\":\"closest\",\"hoverlabel\":{\"align\":\"left\"},\"paper_bgcolor\":\"white\",\"plot_bgcolor\":\"#E5ECF6\",\"polar\":{\"bgcolor\":\"#E5ECF6\",\"angularaxis\":{\"gridcolor\":\"white\",\"linecolor\":\"white\",\"ticks\":\"\"},\"radialaxis\":{\"gridcolor\":\"white\",\"linecolor\":\"white\",\"ticks\":\"\"}},\"ternary\":{\"bgcolor\":\"#E5ECF6\",\"aaxis\":{\"gridcolor\":\"white\",\"linecolor\":\"white\",\"ticks\":\"\"},\"baxis\":{\"gridcolor\":\"white\",\"linecolor\":\"white\",\"ticks\":\"\"},\"caxis\":{\"gridcolor\":\"white\",\"linecolor\":\"white\",\"ticks\":\"\"}},\"coloraxis\":{\"colorbar\":{\"outlinewidth\":0,\"ticks\":\"\"}},\"colorscale\":{\"sequential\":[[0.0,\"#0d0887\"],[0.1111111111111111,\"#46039f\"],[0.2222222222222222,\"#7201a8\"],[0.3333333333333333,\"#9c179e\"],[0.4444444444444444,\"#bd3786\"],[0.5555555555555556,\"#d8576b\"],[0.6666666666666666,\"#ed7953\"],[0.7777777777777778,\"#fb9f3a\"],[0.8888888888888888,\"#fdca26\"],[1.0,\"#f0f921\"]],\"sequentialminus\":[[0.0,\"#0d0887\"],[0.1111111111111111,\"#46039f\"],[0.2222222222222222,\"#7201a8\"],[0.3333333333333333,\"#9c179e\"],[0.4444444444444444,\"#bd3786\"],[0.5555555555555556,\"#d8576b\"],[0.6666666666666666,\"#ed7953\"],[0.7777777777777778,\"#fb9f3a\"],[0.8888888888888888,\"#fdca26\"],[1.0,\"#f0f921\"]],\"diverging\":[[0,\"#8e0152\"],[0.1,\"#c51b7d\"],[0.2,\"#de77ae\"],[0.3,\"#f1b6da\"],[0.4,\"#fde0ef\"],[0.5,\"#f7f7f7\"],[0.6,\"#e6f5d0\"],[0.7,\"#b8e186\"],[0.8,\"#7fbc41\"],[0.9,\"#4d9221\"],[1,\"#276419\"]]},\"xaxis\":{\"gridcolor\":\"white\",\"linecolor\":\"white\",\"ticks\":\"\",\"title\":{\"standoff\":15},\"zerolinecolor\":\"white\",\"automargin\":true,\"zerolinewidth\":2},\"yaxis\":{\"gridcolor\":\"white\",\"linecolor\":\"white\",\"ticks\":\"\",\"title\":{\"standoff\":15},\"zerolinecolor\":\"white\",\"automargin\":true,\"zerolinewidth\":2},\"scene\":{\"xaxis\":{\"backgroundcolor\":\"#E5ECF6\",\"gridcolor\":\"white\",\"linecolor\":\"white\",\"showbackground\":true,\"ticks\":\"\",\"zerolinecolor\":\"white\",\"gridwidth\":2},\"yaxis\":{\"backgroundcolor\":\"#E5ECF6\",\"gridcolor\":\"white\",\"linecolor\":\"white\",\"showbackground\":true,\"ticks\":\"\",\"zerolinecolor\":\"white\",\"gridwidth\":2},\"zaxis\":{\"backgroundcolor\":\"#E5ECF6\",\"gridcolor\":\"white\",\"linecolor\":\"white\",\"showbackground\":true,\"ticks\":\"\",\"zerolinecolor\":\"white\",\"gridwidth\":2}},\"shapedefaults\":{\"line\":{\"color\":\"#2a3f5f\"}},\"annotationdefaults\":{\"arrowcolor\":\"#2a3f5f\",\"arrowhead\":0,\"arrowwidth\":1},\"geo\":{\"bgcolor\":\"white\",\"landcolor\":\"#E5ECF6\",\"subunitcolor\":\"white\",\"showland\":true,\"showlakes\":true,\"lakecolor\":\"white\"},\"title\":{\"x\":0.05},\"mapbox\":{\"style\":\"light\"}}},\"xaxis\":{\"anchor\":\"y\",\"domain\":[0.0,1.0],\"title\":{\"text\":\"YearsExperience\"}},\"yaxis\":{\"anchor\":\"x\",\"domain\":[0.0,1.0],\"title\":{\"text\":\"Salary\"}},\"legend\":{\"tracegroupgap\":0,\"itemsizing\":\"constant\"},\"margin\":{\"t\":60}},                        {\"responsive\": true}                    ).then(function(){\n",
       "                            \n",
       "var gd = document.getElementById('c5f5ee9b-3086-41d8-8b5f-e22480b73a15');\n",
       "var x = new MutationObserver(function (mutations, observer) {{\n",
       "        var display = window.getComputedStyle(gd).display;\n",
       "        if (!display || display === 'none') {{\n",
       "            console.log([gd, 'removed!']);\n",
       "            Plotly.purge(gd);\n",
       "            observer.disconnect();\n",
       "        }}\n",
       "}});\n",
       "\n",
       "// Listen for the removal of the full notebook cells\n",
       "var notebookContainer = gd.closest('#notebook-container');\n",
       "if (notebookContainer) {{\n",
       "    x.observe(notebookContainer, {childList: true});\n",
       "}}\n",
       "\n",
       "// Listen for the clearing of the current output cell\n",
       "var outputEl = gd.closest('.output');\n",
       "if (outputEl) {{\n",
       "    x.observe(outputEl, {childList: true});\n",
       "}}\n",
       "\n",
       "                        })                };                });            </script>        </div>"
      ]
     },
     "metadata": {},
     "output_type": "display_data"
    }
   ],
   "source": [
    "import plotly.express as px\n",
    "\n",
    "fig = px.scatter(data_frame=data, x=\"YearsExperience\", y=\"Salary\", \n",
    "                 size=\"YearsExperience\", trendline='ols')\n",
    "fig.show()\n"
   ]
  },
  {
   "cell_type": "code",
   "execution_count": 15,
   "id": "0945b52e",
   "metadata": {
    "execution": {
     "iopub.execute_input": "2024-10-20T13:15:26.435036Z",
     "iopub.status.busy": "2024-10-20T13:15:26.434630Z",
     "iopub.status.idle": "2024-10-20T13:15:26.710500Z",
     "shell.execute_reply": "2024-10-20T13:15:26.709435Z"
    },
    "papermill": {
     "duration": 0.289913,
     "end_time": "2024-10-20T13:15:26.712896",
     "exception": false,
     "start_time": "2024-10-20T13:15:26.422983",
     "status": "completed"
    },
    "tags": []
   },
   "outputs": [
    {
     "name": "stderr",
     "output_type": "stream",
     "text": [
      "/opt/conda/lib/python3.10/site-packages/seaborn/_oldcore.py:1119: FutureWarning:\n",
      "\n",
      "use_inf_as_na option is deprecated and will be removed in a future version. Convert inf values to NaN before operating instead.\n",
      "\n"
     ]
    },
    {
     "data": {
      "text/plain": [
       "<Axes: xlabel='YearsExperience', ylabel='Count'>"
      ]
     },
     "execution_count": 15,
     "metadata": {},
     "output_type": "execute_result"
    },
    {
     "data": {
      "image/png": "[encoded data removed]",
      "text/plain": [
       "<Figure size 640x480 with 1 Axes>"
      ]
     },
     "metadata": {},
     "output_type": "display_data"
    }
   ],
   "source": [
    "sns.histplot(data= data, x ='YearsExperience')"
   ]
  },
  {
   "cell_type": "code",
   "execution_count": 16,
   "id": "f64c1469",
   "metadata": {
    "execution": {
     "iopub.execute_input": "2024-10-20T13:15:26.735286Z",
     "iopub.status.busy": "2024-10-20T13:15:26.734825Z",
     "iopub.status.idle": "2024-10-20T13:15:26.969770Z",
     "shell.execute_reply": "2024-10-20T13:15:26.968638Z"
    },
    "papermill": {
     "duration": 0.249061,
     "end_time": "2024-10-20T13:15:26.972344",
     "exception": false,
     "start_time": "2024-10-20T13:15:26.723283",
     "status": "completed"
    },
    "tags": []
   },
   "outputs": [
    {
     "name": "stderr",
     "output_type": "stream",
     "text": [
      "/opt/conda/lib/python3.10/site-packages/seaborn/_oldcore.py:1119: FutureWarning:\n",
      "\n",
      "use_inf_as_na option is deprecated and will be removed in a future version. Convert inf values to NaN before operating instead.\n",
      "\n"
     ]
    },
    {
     "data": {
      "text/plain": [
       "<Axes: xlabel='Salary', ylabel='Count'>"
      ]
     },
     "execution_count": 16,
     "metadata": {},
     "output_type": "execute_result"
    },
    {
     "data": {
      "image/png": "[encoded data removed]",
      "text/plain": [
       "<Figure size 640x480 with 1 Axes>"
      ]
     },
     "metadata": {},
     "output_type": "display_data"
    }
   ],
   "source": [
    "sns.histplot(data= data, x= 'Salary')"
   ]
  },
  {
   "cell_type": "code",
   "execution_count": 17,
   "id": "da8ef9d1",
   "metadata": {
    "execution": {
     "iopub.execute_input": "2024-10-20T13:15:26.997123Z",
     "iopub.status.busy": "2024-10-20T13:15:26.996701Z",
     "iopub.status.idle": "2024-10-20T13:15:27.267340Z",
     "shell.execute_reply": "2024-10-20T13:15:27.266192Z"
    },
    "papermill": {
     "duration": 0.28535,
     "end_time": "2024-10-20T13:15:27.269607",
     "exception": false,
     "start_time": "2024-10-20T13:15:26.984257",
     "status": "completed"
    },
    "tags": []
   },
   "outputs": [
    {
     "data": {
      "text/plain": [
       "<Axes: >"
      ]
     },
     "execution_count": 17,
     "metadata": {},
     "output_type": "execute_result"
    },
    {
     "data": {
      "image/png": "[encoded data removed]",
      "text/plain": [
       "<Figure size 640x480 with 2 Axes>"
      ]
     },
     "metadata": {},
     "output_type": "display_data"
    }
   ],
   "source": [
    "sns.heatmap(data.corr(),annot=True)"
   ]
  },
  {
   "cell_type": "code",
   "execution_count": 18,
   "id": "139ca77c",
   "metadata": {
    "execution": {
     "iopub.execute_input": "2024-10-20T13:15:27.294953Z",
     "iopub.status.busy": "2024-10-20T13:15:27.294520Z",
     "iopub.status.idle": "2024-10-20T13:15:27.569366Z",
     "shell.execute_reply": "2024-10-20T13:15:27.567989Z"
    },
    "papermill": {
     "duration": 0.290399,
     "end_time": "2024-10-20T13:15:27.572154",
     "exception": false,
     "start_time": "2024-10-20T13:15:27.281755",
     "status": "completed"
    },
    "tags": []
   },
   "outputs": [
    {
     "name": "stderr",
     "output_type": "stream",
     "text": [
      "/opt/conda/lib/python3.10/site-packages/seaborn/_oldcore.py:1119: FutureWarning:\n",
      "\n",
      "use_inf_as_na option is deprecated and will be removed in a future version. Convert inf values to NaN before operating instead.\n",
      "\n"
     ]
    },
    {
     "data": {
      "image/png": "[encoded data removed]",
      "text/plain": [
       "<Figure size 640x480 with 1 Axes>"
      ]
     },
     "metadata": {},
     "output_type": "display_data"
    }
   ],
   "source": [
    "sns.histplot(data['Salary'], kde=True, color='teal')\n",
    "plt.title('YearsExperience v Salary')\n",
    "plt.xlabel('Salary')\n",
    "plt.ylabel('YearsExperience')\n",
    "plt.show()"
   ]
  },
  {
   "cell_type": "code",
   "execution_count": 19,
   "id": "5cfc9c0e",
   "metadata": {
    "execution": {
     "iopub.execute_input": "2024-10-20T13:15:27.597807Z",
     "iopub.status.busy": "2024-10-20T13:15:27.597346Z",
     "iopub.status.idle": "2024-10-20T13:15:27.803809Z",
     "shell.execute_reply": "2024-10-20T13:15:27.802598Z"
    },
    "papermill": {
     "duration": 0.222099,
     "end_time": "2024-10-20T13:15:27.806204",
     "exception": false,
     "start_time": "2024-10-20T13:15:27.584105",
     "status": "completed"
    },
    "tags": []
   },
   "outputs": [
    {
     "data": {
      "text/plain": [
       "Text(0, 0.5, 'Salary')"
      ]
     },
     "execution_count": 19,
     "metadata": {},
     "output_type": "execute_result"
    },
    {
     "data": {
      "image/png": "[encoded data removed]",
      "text/plain": [
       "<Figure size 640x480 with 1 Axes>"
      ]
     },
     "metadata": {},
     "output_type": "display_data"
    }
   ],
   "source": [
    "\n",
    "plt.scatter(data['YearsExperience'],data['Salary'])\n",
    "plt.xlabel('YearsExperience')\n",
    "plt.ylabel('Salary')"
   ]
  },
  {
   "cell_type": "markdown",
   "id": "bba32f50",
   "metadata": {
    "papermill": {
     "duration": 0.012035,
     "end_time": "2024-10-20T13:15:27.830901",
     "exception": false,
     "start_time": "2024-10-20T13:15:27.818866",
     "status": "completed"
    },
    "tags": []
   },
   "source": [
    "# Extracting features and target variable from the dataframe 'data'¶\r\n"
   ]
  },
  {
   "cell_type": "code",
   "execution_count": 20,
   "id": "589a5286",
   "metadata": {
    "execution": {
     "iopub.execute_input": "2024-10-20T13:15:27.858180Z",
     "iopub.status.busy": "2024-10-20T13:15:27.857750Z",
     "iopub.status.idle": "2024-10-20T13:15:27.863999Z",
     "shell.execute_reply": "2024-10-20T13:15:27.862708Z"
    },
    "papermill": {
     "duration": 0.023332,
     "end_time": "2024-10-20T13:15:27.866468",
     "exception": false,
     "start_time": "2024-10-20T13:15:27.843136",
     "status": "completed"
    },
    "tags": []
   },
   "outputs": [],
   "source": [
    "X = data.iloc[:,:-1]\n",
    "y = data.iloc[:,-1]"
   ]
  },
  {
   "cell_type": "code",
   "execution_count": 21,
   "id": "57bc8489",
   "metadata": {
    "execution": {
     "iopub.execute_input": "2024-10-20T13:15:27.894436Z",
     "iopub.status.busy": "2024-10-20T13:15:27.893349Z",
     "iopub.status.idle": "2024-10-20T13:15:27.900891Z",
     "shell.execute_reply": "2024-10-20T13:15:27.899678Z"
    },
    "papermill": {
     "duration": 0.02403,
     "end_time": "2024-10-20T13:15:27.903148",
     "exception": false,
     "start_time": "2024-10-20T13:15:27.879118",
     "status": "completed"
    },
    "tags": []
   },
   "outputs": [
    {
     "data": {
      "text/plain": [
       "pandas.core.frame.DataFrame"
      ]
     },
     "execution_count": 21,
     "metadata": {},
     "output_type": "execute_result"
    }
   ],
   "source": [
    "type(X)"
   ]
  },
  {
   "cell_type": "markdown",
   "id": "2da3fc1b",
   "metadata": {
    "papermill": {
     "duration": 0.012595,
     "end_time": "2024-10-20T13:15:27.929269",
     "exception": false,
     "start_time": "2024-10-20T13:15:27.916674",
     "status": "completed"
    },
    "tags": []
   },
   "source": [
    "# splitting the data into train and test data¶\r\n"
   ]
  },
  {
   "cell_type": "code",
   "execution_count": 22,
   "id": "c131b24d",
   "metadata": {
    "execution": {
     "iopub.execute_input": "2024-10-20T13:15:27.956617Z",
     "iopub.status.busy": "2024-10-20T13:15:27.956159Z",
     "iopub.status.idle": "2024-10-20T13:15:28.328469Z",
     "shell.execute_reply": "2024-10-20T13:15:28.327159Z"
    },
    "papermill": {
     "duration": 0.389306,
     "end_time": "2024-10-20T13:15:28.331523",
     "exception": false,
     "start_time": "2024-10-20T13:15:27.942217",
     "status": "completed"
    },
    "tags": []
   },
   "outputs": [],
   "source": [
    "from sklearn.model_selection import train_test_split\n",
    "\n",
    "(X_train, X_test, y_train, y_test) = train_test_split(X, y, test_size=0.2, random_state=42)"
   ]
  },
  {
   "cell_type": "markdown",
   "id": "2ee34bd4",
   "metadata": {
    "papermill": {
     "duration": 0.012565,
     "end_time": "2024-10-20T13:15:28.357056",
     "exception": false,
     "start_time": "2024-10-20T13:15:28.344491",
     "status": "completed"
    },
    "tags": []
   },
   "source": [
    "# Fitting the model\r\n"
   ]
  },
  {
   "cell_type": "code",
   "execution_count": 23,
   "id": "36d3f894",
   "metadata": {
    "execution": {
     "iopub.execute_input": "2024-10-20T13:15:28.384354Z",
     "iopub.status.busy": "2024-10-20T13:15:28.383923Z",
     "iopub.status.idle": "2024-10-20T13:15:28.528874Z",
     "shell.execute_reply": "2024-10-20T13:15:28.527741Z"
    },
    "papermill": {
     "duration": 0.161457,
     "end_time": "2024-10-20T13:15:28.531229",
     "exception": false,
     "start_time": "2024-10-20T13:15:28.369772",
     "status": "completed"
    },
    "tags": []
   },
   "outputs": [
    {
     "data": {
      "text/html": [
       "<style>#sk-container-id-1 {color: black;background-color: white;}#sk-container-id-1 pre{padding: 0;}#sk-container-id-1 div.sk-toggleable {background-color: white;}#sk-container-id-1 label.sk-toggleable__label {cursor: pointer;display: block;width: 100%;margin-bottom: 0;padding: 0.3em;box-sizing: border-box;text-align: center;}#sk-container-id-1 label.sk-toggleable__label-arrow:before {content: \"▸\";float: left;margin-right: 0.25em;color: #696969;}#sk-container-id-1 label.sk-toggleable__label-arrow:hover:before {color: black;}#sk-container-id-1 div.sk-estimator:hover label.sk-toggleable__label-arrow:before {color: black;}#sk-container-id-1 div.sk-toggleable__content {max-height: 0;max-width: 0;overflow: hidden;text-align: left;background-color: #f0f8ff;}#sk-container-id-1 div.sk-toggleable__content pre {margin: 0.2em;color: black;border-radius: 0.25em;background-color: #f0f8ff;}#sk-container-id-1 input.sk-toggleable__control:checked~div.sk-toggleable__content {max-height: 200px;max-width: 100%;overflow: auto;}#sk-container-id-1 input.sk-toggleable__control:checked~label.sk-toggleable__label-arrow:before {content: \"▾\";}#sk-container-id-1 div.sk-estimator input.sk-toggleable__control:checked~label.sk-toggleable__label {background-color: #d4ebff;}#sk-container-id-1 div.sk-label input.sk-toggleable__control:checked~label.sk-toggleable__label {background-color: #d4ebff;}#sk-container-id-1 input.sk-hidden--visually {border: 0;clip: rect(1px 1px 1px 1px);clip: rect(1px, 1px, 1px, 1px);height: 1px;margin: -1px;overflow: hidden;padding: 0;position: absolute;width: 1px;}#sk-container-id-1 div.sk-estimator {font-family: monospace;background-color: #f0f8ff;border: 1px dotted black;border-radius: 0.25em;box-sizing: border-box;margin-bottom: 0.5em;}#sk-container-id-1 div.sk-estimator:hover {background-color: #d4ebff;}#sk-container-id-1 div.sk-parallel-item::after {content: \"\";width: 100%;border-bottom: 1px solid gray;flex-grow: 1;}#sk-container-id-1 div.sk-label:hover label.sk-toggleable__label {background-color: #d4ebff;}#sk-container-id-1 div.sk-serial::before {content: \"\";position: absolute;border-left: 1px solid gray;box-sizing: border-box;top: 0;bottom: 0;left: 50%;z-index: 0;}#sk-container-id-1 div.sk-serial {display: flex;flex-direction: column;align-items: center;background-color: white;padding-right: 0.2em;padding-left: 0.2em;position: relative;}#sk-container-id-1 div.sk-item {position: relative;z-index: 1;}#sk-container-id-1 div.sk-parallel {display: flex;align-items: stretch;justify-content: center;background-color: white;position: relative;}#sk-container-id-1 div.sk-item::before, #sk-container-id-1 div.sk-parallel-item::before {content: \"\";position: absolute;border-left: 1px solid gray;box-sizing: border-box;top: 0;bottom: 0;left: 50%;z-index: -1;}#sk-container-id-1 div.sk-parallel-item {display: flex;flex-direction: column;z-index: 1;position: relative;background-color: white;}#sk-container-id-1 div.sk-parallel-item:first-child::after {align-self: flex-end;width: 50%;}#sk-container-id-1 div.sk-parallel-item:last-child::after {align-self: flex-start;width: 50%;}#sk-container-id-1 div.sk-parallel-item:only-child::after {width: 0;}#sk-container-id-1 div.sk-dashed-wrapped {border: 1px dashed gray;margin: 0 0.4em 0.5em 0.4em;box-sizing: border-box;padding-bottom: 0.4em;background-color: white;}#sk-container-id-1 div.sk-label label {font-family: monospace;font-weight: bold;display: inline-block;line-height: 1.2em;}#sk-container-id-1 div.sk-label-container {text-align: center;}#sk-container-id-1 div.sk-container {/* jupyter's `normalize.less` sets `[hidden] { display: none; }` but bootstrap.min.css set `[hidden] { display: none !important; }` so we also need the `!important` here to be able to override the default hidden behavior on the sphinx rendered scikit-learn.org. See: https://github.com/scikit-learn/scikit-learn/issues/21755 */display: inline-block !important;position: relative;}#sk-container-id-1 div.sk-text-repr-fallback {display: none;}</style><div id=\"sk-container-id-1\" class=\"sk-top-container\"><div class=\"sk-text-repr-fallback\"><pre>LinearRegression()</pre><b>In a Jupyter environment, please rerun this cell to show the HTML representation or trust the notebook. <br />On GitHub, the HTML representation is unable to render, please try loading this page with nbviewer.org.</b></div><div class=\"sk-container\" hidden><div class=\"sk-item\"><div class=\"sk-estimator sk-toggleable\"><input class=\"sk-toggleable__control sk-hidden--visually\" id=\"sk-estimator-id-1\" type=\"checkbox\" checked><label for=\"sk-estimator-id-1\" class=\"sk-toggleable__label sk-toggleable__label-arrow\">LinearRegression</label><div class=\"sk-toggleable__content\"><pre>LinearRegression()</pre></div></div></div></div></div>"
      ],
      "text/plain": [
       "LinearRegression()"
      ]
     },
     "execution_count": 23,
     "metadata": {},
     "output_type": "execute_result"
    }
   ],
   "source": [
    "from sklearn.linear_model import LinearRegression\n",
    "\n",
    "lr = LinearRegression()\n",
    "lr.fit(X_train,y_train)"
   ]
  },
  {
   "cell_type": "markdown",
   "id": "73286fa7",
   "metadata": {
    "papermill": {
     "duration": 0.012622,
     "end_time": "2024-10-20T13:15:28.556765",
     "exception": false,
     "start_time": "2024-10-20T13:15:28.544143",
     "status": "completed"
    },
    "tags": []
   },
   "source": [
    "# Making predictions on Train and Test data¶\r\n"
   ]
  },
  {
   "cell_type": "code",
   "execution_count": 24,
   "id": "31a57d4b",
   "metadata": {
    "execution": {
     "iopub.execute_input": "2024-10-20T13:15:28.584230Z",
     "iopub.status.busy": "2024-10-20T13:15:28.583789Z",
     "iopub.status.idle": "2024-10-20T13:15:28.591651Z",
     "shell.execute_reply": "2024-10-20T13:15:28.590610Z"
    },
    "papermill": {
     "duration": 0.024586,
     "end_time": "2024-10-20T13:15:28.594122",
     "exception": false,
     "start_time": "2024-10-20T13:15:28.569536",
     "status": "completed"
    },
    "tags": []
   },
   "outputs": [],
   "source": [
    "y_train_pred = lr.predict(X_train)\n",
    "y_test_pred = lr.predict(X_test)"
   ]
  },
  {
   "cell_type": "code",
   "execution_count": 25,
   "id": "fdbdd1bd",
   "metadata": {
    "execution": {
     "iopub.execute_input": "2024-10-20T13:15:28.621935Z",
     "iopub.status.busy": "2024-10-20T13:15:28.621504Z",
     "iopub.status.idle": "2024-10-20T13:15:28.882298Z",
     "shell.execute_reply": "2024-10-20T13:15:28.880949Z"
    },
    "papermill": {
     "duration": 0.278144,
     "end_time": "2024-10-20T13:15:28.885335",
     "exception": false,
     "start_time": "2024-10-20T13:15:28.607191",
     "status": "completed"
    },
    "tags": []
   },
   "outputs": [
    {
     "data": {
      "image/png": "[encoded data removed]",
      "text/plain": [
       "<Figure size 640x480 with 1 Axes>"
      ]
     },
     "metadata": {},
     "output_type": "display_data"
    }
   ],
   "source": [
    "plt.scatter(X_train,y_train, label='Actual')\n",
    "plt.plot(X_train,lr.predict(X_train),color='red', label='Predicted')\n",
    "plt.xlabel('Actual Values')\n",
    "plt.ylabel('Predicted Values')\n",
    "plt.legend()\n",
    "plt.show()"
   ]
  },
  {
   "cell_type": "markdown",
   "id": "8eee38dc",
   "metadata": {
    "papermill": {
     "duration": 0.01663,
     "end_time": "2024-10-20T13:15:28.918373",
     "exception": false,
     "start_time": "2024-10-20T13:15:28.901743",
     "status": "completed"
    },
    "tags": []
   },
   "source": [
    "# Determining the metrics for Linear Regression¶\r\n"
   ]
  },
  {
   "cell_type": "code",
   "execution_count": 26,
   "id": "3924b336",
   "metadata": {
    "execution": {
     "iopub.execute_input": "2024-10-20T13:15:28.951300Z",
     "iopub.status.busy": "2024-10-20T13:15:28.950818Z",
     "iopub.status.idle": "2024-10-20T13:15:28.961817Z",
     "shell.execute_reply": "2024-10-20T13:15:28.960583Z"
    },
    "papermill": {
     "duration": 0.033239,
     "end_time": "2024-10-20T13:15:28.966108",
     "exception": false,
     "start_time": "2024-10-20T13:15:28.932869",
     "status": "completed"
    },
    "tags": []
   },
   "outputs": [
    {
     "name": "stdout",
     "output_type": "stream",
     "text": [
      "train_rme: 27102249.73126133\n",
      "test_rme: 49830096.855908394\n",
      "train_r2: 0.9645401573418148\n",
      "test_r2: 0.9024461774180497\n"
     ]
    }
   ],
   "source": [
    "from sklearn.metrics import mean_squared_error, r2_score\n",
    "\n",
    "train_rme= mean_squared_error(y_train, y_train_pred)\n",
    "test_rme= mean_squared_error(y_test, y_test_pred)\n",
    "train_r2= r2_score(y_train, y_train_pred)\n",
    "test_r2= r2_score(y_test, y_test_pred)\n",
    "\n",
    "print(f\"train_rme: {train_rme}\\n\"\n",
    "      f\"test_rme: {test_rme}\\n\"\n",
    "      f\"train_r2: {train_r2}\\n\"\n",
    "      f\"test_r2: {test_r2}\")"
   ]
  },
  {
   "cell_type": "markdown",
   "id": "a5a4d5b6",
   "metadata": {
    "papermill": {
     "duration": 0.014064,
     "end_time": "2024-10-20T13:15:28.993911",
     "exception": false,
     "start_time": "2024-10-20T13:15:28.979847",
     "status": "completed"
    },
    "tags": []
   },
   "source": [
    "# Create DataFrames for training and testing datasets¶\r\n"
   ]
  },
  {
   "cell_type": "code",
   "execution_count": 27,
   "id": "c4ad6e0e",
   "metadata": {
    "execution": {
     "iopub.execute_input": "2024-10-20T13:15:29.024652Z",
     "iopub.status.busy": "2024-10-20T13:15:29.023606Z",
     "iopub.status.idle": "2024-10-20T13:15:29.033544Z",
     "shell.execute_reply": "2024-10-20T13:15:29.032349Z"
    },
    "papermill": {
     "duration": 0.027885,
     "end_time": "2024-10-20T13:15:29.036215",
     "exception": false,
     "start_time": "2024-10-20T13:15:29.008330",
     "status": "completed"
    },
    "tags": []
   },
   "outputs": [
    {
     "name": "stderr",
     "output_type": "stream",
     "text": [
      "/tmp/ipykernel_17/1761490315.py:1: FutureWarning:\n",
      "\n",
      "Series.ravel is deprecated. The underlying array is already 1D, so ravel is not necessary.  Use `to_numpy()` for conversion to a numpy array instead.\n",
      "\n",
      "/tmp/ipykernel_17/1761490315.py:2: FutureWarning:\n",
      "\n",
      "Series.ravel is deprecated. The underlying array is already 1D, so ravel is not necessary.  Use `to_numpy()` for conversion to a numpy array instead.\n",
      "\n"
     ]
    }
   ],
   "source": [
    "train_data = pd.DataFrame({'Actual': y_train.ravel(), 'Predicted': y_train_pred.ravel(), 'Dataset': 'Training'})\n",
    "test_data = pd.DataFrame({'Actual': y_test.ravel(), 'Predicted': y_test_pred.ravel(), 'Dataset': 'Testing'})\n",
    "\n",
    "# Concatenate both DataFrames\n",
    "combined_data = pd.concat([train_data, test_data], ignore_index=True)"
   ]
  },
  {
   "cell_type": "markdown",
   "id": "f38fecb6",
   "metadata": {
    "papermill": {
     "duration": 0.016432,
     "end_time": "2024-10-20T13:15:29.066883",
     "exception": false,
     "start_time": "2024-10-20T13:15:29.050451",
     "status": "completed"
    },
    "tags": []
   },
   "source": [
    "# Plot the results using Seaborn¶\r\n"
   ]
  },
  {
   "cell_type": "code",
   "execution_count": 28,
   "id": "1f1349a6",
   "metadata": {
    "execution": {
     "iopub.execute_input": "2024-10-20T13:15:29.098833Z",
     "iopub.status.busy": "2024-10-20T13:15:29.098267Z",
     "iopub.status.idle": "2024-10-20T13:15:29.485790Z",
     "shell.execute_reply": "2024-10-20T13:15:29.484457Z"
    },
    "papermill": {
     "duration": 0.406456,
     "end_time": "2024-10-20T13:15:29.489228",
     "exception": false,
     "start_time": "2024-10-20T13:15:29.082772",
     "status": "completed"
    },
    "tags": []
   },
   "outputs": [
    {
     "data": {
      "image/png": "[encoded data removed]",
      "text/plain": [
       "<Figure size 1000x600 with 1 Axes>"
      ]
     },
     "metadata": {},
     "output_type": "display_data"
    }
   ],
   "source": [
    "sns.set(style='ticks')\n",
    "plt.figure(figsize=(10, 6))\n",
    "sns.scatterplot(x='Actual', y='Predicted', hue='Dataset', data=combined_data, s=100, alpha=0.8, palette='husl') \n",
    "\n",
    "plt.plot(\n",
    "    [min(y.min(), y_train_pred.min()) - 1, max(y.max(), y_train_pred.max()) + 1],\n",
    "    [min(y.min(), y_train_pred.min()) - 1, max(y.max(), y_train_pred.max()) + 1], \n",
    "    'b--' \n",
    ")\n",
    "\n",
    "plt.xlabel('Actual Values')\n",
    "plt.ylabel('Predicted Values')\n",
    "plt.title('Actual vs. Predicted (Training and Testing)')\n",
    "\n",
    "plt.legend()\n",
    "plt.grid(True)\n",
    "plt.show()"
   ]
  },
  {
   "cell_type": "code",
   "execution_count": null,
   "id": "973b7f35",
   "metadata": {
    "papermill": {
     "duration": 0.01498,
     "end_time": "2024-10-20T13:15:29.519953",
     "exception": false,
     "start_time": "2024-10-20T13:15:29.504973",
     "status": "completed"
    },
    "tags": []
   },
   "outputs": [],
   "source": []
  }
 ],
 "metadata": {
  "kaggle": {
   "accelerator": "none",
   "dataSources": [
    {
     "datasetId": 2799910,
     "sourceId": 4832081,
     "sourceType": "datasetVersion"
    }
   ],
   "dockerImageVersionId": 30786,
   "isGpuEnabled": false,
   "isInternetEnabled": true,
   "language": "python",
   "sourceType": "notebook"
  },
  "kernelspec": {
   "display_name": "Python 3",
   "language": "python",
   "name": "python3"
  },
  "language_info": {
   "codemirror_mode": {
    "name": "ipython",
    "version": 3
   },
   "file_extension": ".py",
   "mimetype": "text/x-python",
   "name": "python",
   "nbconvert_exporter": "python",
   "pygments_lexer": "ipython3",
   "version": "3.10.14"
  },
  "papermill": {
   "default_parameters": {},
   "duration": 15.059569,
   "end_time": "2024-10-20T13:15:30.459440",
   "environment_variables": {},
   "exception": null,
   "input_path": "__notebook__.ipynb",
   "output_path": "__notebook__.ipynb",
   "parameters": {},
   "start_time": "2024-10-20T13:15:15.399871",
   "version": "2.6.0"
  }
 },
 "nbformat": 4,
 "nbformat_minor": 5
}
