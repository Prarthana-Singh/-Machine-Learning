{
 "cells": [
  {
   "cell_type": "markdown",
   "id": "f0155d2c-5ea4-4805-b543-c87139766ff4",
   "metadata": {},
   "source": [
    "Task Select best features from from Wine Quality dataset.\n",
    "Data Link : https://www.kaggle.com/datasets/rajyellow46/wine-quality\n",
    "\n",
    "Drive link : https://docs.google.com/spreadsheets/d/e/2PACX-1vQDVwxneOKOaJL13QMhkAhYrgWlH1tICY7RacUnj_lL8m9uUWaaUf3p7bScNyh_D2Rvt7nc1q11adSy/pub?gid=647503637&single=true&output=csv\n",
    "\n",
    "Note : Follow approach from Feature Selection Session - 2"
   ]
  },
  {
   "cell_type": "code",
   "execution_count": null,
   "id": "82f1d3b0-a0f0-4c6f-8bc9-c1b6d81fba13",
   "metadata": {},
   "outputs": [],
   "source": [
    "# Perform when you are doing revison"
   ]
  }
 ],
 "metadata": {
  "kernelspec": {
   "display_name": "Python 3 (ipykernel)",
   "language": "python",
   "name": "python3"
  },
  "language_info": {
   "codemirror_mode": {
    "name": "ipython",
    "version": 3
   },
   "file_extension": ".py",
   "mimetype": "text/x-python",
   "name": "python",
   "nbconvert_exporter": "python",
   "pygments_lexer": "ipython3",
   "version": "3.12.4"
  }
 },
 "nbformat": 4,
 "nbformat_minor": 5
}
