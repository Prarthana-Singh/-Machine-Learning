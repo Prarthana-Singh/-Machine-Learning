{
 "cells": [
  {
   "cell_type": "code",
   "execution_count": 1,
   "id": "b7ea4393",
   "metadata": {
    "_cell_guid": "b1076dfc-b9ad-4769-8c92-a6c4dae69d19",
    "_uuid": "8f2839f25d086af736a60e9eeb907d3b93b6e0e5",
    "execution": {
     "iopub.execute_input": "2024-11-20T06:29:36.399953Z",
     "iopub.status.busy": "2024-11-20T06:29:36.399429Z",
     "iopub.status.idle": "2024-11-20T06:29:37.446919Z",
     "shell.execute_reply": "2024-11-20T06:29:37.445584Z"
    },
    "papermill": {
     "duration": 1.058081,
     "end_time": "2024-11-20T06:29:37.449284",
     "exception": false,
     "start_time": "2024-11-20T06:29:36.391203",
     "status": "completed"
    },
    "tags": []
   },
   "outputs": [
    {
     "name": "stdout",
     "output_type": "stream",
     "text": [
      "/kaggle/input/multicollinearity-analysis-dataset/salary_data.csv\n",
      "/kaggle/input/multicollinearity-analysis-dataset/Advertising.csv\n",
      "/kaggle/input/salary-dataset/Salary_Data (1).csv\n"
     ]
    }
   ],
   "source": [
    "# This Python 3 environment comes with many helpful analytics libraries installed\n",
    "# It is defined by the kaggle/python Docker image: https://github.com/kaggle/docker-python\n",
    "# For example, here's several helpful packages to load\n",
    "\n",
    "import numpy as np # linear algebra\n",
    "import pandas as pd # data processing, CSV file I/O (e.g. pd.read_csv)\n",
    "\n",
    "# Input data files are available in the read-only \"../input/\" directory\n",
    "# For example, running this (by clicking run or pressing Shift+Enter) will list all files under the input directory\n",
    "\n",
    "import os\n",
    "for dirname, _, filenames in os.walk('/kaggle/input'):\n",
    "    for filename in filenames:\n",
    "        print(os.path.join(dirname, filename))\n",
    "\n",
    "# You can write up to 20GB to the current directory (/kaggle/working/) that gets preserved as output when you create a version using \"Save & Run All\" \n",
    "# You can also write temporary files to /kaggle/temp/, but they won't be saved outside of the current session"
   ]
  },
  {
   "cell_type": "code",
   "execution_count": 2,
   "id": "65a424ad",
   "metadata": {
    "execution": {
     "iopub.execute_input": "2024-11-20T06:29:37.462900Z",
     "iopub.status.busy": "2024-11-20T06:29:37.462348Z",
     "iopub.status.idle": "2024-11-20T06:29:37.484598Z",
     "shell.execute_reply": "2024-11-20T06:29:37.483473Z"
    },
    "papermill": {
     "duration": 0.031455,
     "end_time": "2024-11-20T06:29:37.486839",
     "exception": false,
     "start_time": "2024-11-20T06:29:37.455384",
     "status": "completed"
    },
    "tags": []
   },
   "outputs": [],
   "source": [
    "df1 = pd.read_csv('/kaggle/input/multicollinearity-analysis-dataset/Advertising.csv')\n",
    "df2 = pd.read_csv('/kaggle/input/salary-dataset/Salary_Data (1).csv')"
   ]
  },
  {
   "cell_type": "code",
   "execution_count": 3,
   "id": "32410ca0",
   "metadata": {
    "execution": {
     "iopub.execute_input": "2024-11-20T06:29:37.500714Z",
     "iopub.status.busy": "2024-11-20T06:29:37.499780Z",
     "iopub.status.idle": "2024-11-20T06:29:37.524216Z",
     "shell.execute_reply": "2024-11-20T06:29:37.522991Z"
    },
    "papermill": {
     "duration": 0.033557,
     "end_time": "2024-11-20T06:29:37.526455",
     "exception": false,
     "start_time": "2024-11-20T06:29:37.492898",
     "status": "completed"
    },
    "tags": []
   },
   "outputs": [
    {
     "data": {
      "text/html": [
       "<div>\n",
       "<style scoped>\n",
       "    .dataframe tbody tr th:only-of-type {\n",
       "        vertical-align: middle;\n",
       "    }\n",
       "\n",
       "    .dataframe tbody tr th {\n",
       "        vertical-align: top;\n",
       "    }\n",
       "\n",
       "    .dataframe thead th {\n",
       "        text-align: right;\n",
       "    }\n",
       "</style>\n",
       "<table border=\"1\" class=\"dataframe\">\n",
       "  <thead>\n",
       "    <tr style=\"text-align: right;\">\n",
       "      <th></th>\n",
       "      <th>Unnamed: 0</th>\n",
       "      <th>TV</th>\n",
       "      <th>Radio</th>\n",
       "      <th>Newspaper</th>\n",
       "      <th>Sales</th>\n",
       "    </tr>\n",
       "  </thead>\n",
       "  <tbody>\n",
       "    <tr>\n",
       "      <th>0</th>\n",
       "      <td>1</td>\n",
       "      <td>230.1</td>\n",
       "      <td>37.8</td>\n",
       "      <td>69.2</td>\n",
       "      <td>22.1</td>\n",
       "    </tr>\n",
       "    <tr>\n",
       "      <th>1</th>\n",
       "      <td>2</td>\n",
       "      <td>44.5</td>\n",
       "      <td>39.3</td>\n",
       "      <td>45.1</td>\n",
       "      <td>10.4</td>\n",
       "    </tr>\n",
       "    <tr>\n",
       "      <th>2</th>\n",
       "      <td>3</td>\n",
       "      <td>17.2</td>\n",
       "      <td>45.9</td>\n",
       "      <td>69.3</td>\n",
       "      <td>9.3</td>\n",
       "    </tr>\n",
       "    <tr>\n",
       "      <th>3</th>\n",
       "      <td>4</td>\n",
       "      <td>151.5</td>\n",
       "      <td>41.3</td>\n",
       "      <td>58.5</td>\n",
       "      <td>18.5</td>\n",
       "    </tr>\n",
       "    <tr>\n",
       "      <th>4</th>\n",
       "      <td>5</td>\n",
       "      <td>180.8</td>\n",
       "      <td>10.8</td>\n",
       "      <td>58.4</td>\n",
       "      <td>12.9</td>\n",
       "    </tr>\n",
       "  </tbody>\n",
       "</table>\n",
       "</div>"
      ],
      "text/plain": [
       "   Unnamed: 0     TV  Radio  Newspaper  Sales\n",
       "0           1  230.1   37.8       69.2   22.1\n",
       "1           2   44.5   39.3       45.1   10.4\n",
       "2           3   17.2   45.9       69.3    9.3\n",
       "3           4  151.5   41.3       58.5   18.5\n",
       "4           5  180.8   10.8       58.4   12.9"
      ]
     },
     "execution_count": 3,
     "metadata": {},
     "output_type": "execute_result"
    }
   ],
   "source": [
    "df1.head()"
   ]
  },
  {
   "cell_type": "code",
   "execution_count": 4,
   "id": "45fec552",
   "metadata": {
    "execution": {
     "iopub.execute_input": "2024-11-20T06:29:37.539963Z",
     "iopub.status.busy": "2024-11-20T06:29:37.539561Z",
     "iopub.status.idle": "2024-11-20T06:29:37.550947Z",
     "shell.execute_reply": "2024-11-20T06:29:37.549852Z"
    },
    "papermill": {
     "duration": 0.020516,
     "end_time": "2024-11-20T06:29:37.553015",
     "exception": false,
     "start_time": "2024-11-20T06:29:37.532499",
     "status": "completed"
    },
    "tags": []
   },
   "outputs": [
    {
     "data": {
      "text/html": [
       "<div>\n",
       "<style scoped>\n",
       "    .dataframe tbody tr th:only-of-type {\n",
       "        vertical-align: middle;\n",
       "    }\n",
       "\n",
       "    .dataframe tbody tr th {\n",
       "        vertical-align: top;\n",
       "    }\n",
       "\n",
       "    .dataframe thead th {\n",
       "        text-align: right;\n",
       "    }\n",
       "</style>\n",
       "<table border=\"1\" class=\"dataframe\">\n",
       "  <thead>\n",
       "    <tr style=\"text-align: right;\">\n",
       "      <th></th>\n",
       "      <th>YearsExperience</th>\n",
       "      <th>Age</th>\n",
       "      <th>Salary</th>\n",
       "    </tr>\n",
       "  </thead>\n",
       "  <tbody>\n",
       "    <tr>\n",
       "      <th>0</th>\n",
       "      <td>1.1</td>\n",
       "      <td>21.0</td>\n",
       "      <td>39343</td>\n",
       "    </tr>\n",
       "    <tr>\n",
       "      <th>1</th>\n",
       "      <td>1.3</td>\n",
       "      <td>21.5</td>\n",
       "      <td>46205</td>\n",
       "    </tr>\n",
       "    <tr>\n",
       "      <th>2</th>\n",
       "      <td>1.5</td>\n",
       "      <td>21.7</td>\n",
       "      <td>37731</td>\n",
       "    </tr>\n",
       "    <tr>\n",
       "      <th>3</th>\n",
       "      <td>2.0</td>\n",
       "      <td>22.0</td>\n",
       "      <td>43525</td>\n",
       "    </tr>\n",
       "    <tr>\n",
       "      <th>4</th>\n",
       "      <td>2.2</td>\n",
       "      <td>22.2</td>\n",
       "      <td>39891</td>\n",
       "    </tr>\n",
       "  </tbody>\n",
       "</table>\n",
       "</div>"
      ],
      "text/plain": [
       "   YearsExperience   Age  Salary\n",
       "0              1.1  21.0   39343\n",
       "1              1.3  21.5   46205\n",
       "2              1.5  21.7   37731\n",
       "3              2.0  22.0   43525\n",
       "4              2.2  22.2   39891"
      ]
     },
     "execution_count": 4,
     "metadata": {},
     "output_type": "execute_result"
    }
   ],
   "source": [
    "df2.head()"
   ]
  },
  {
   "cell_type": "markdown",
   "id": "fa420381",
   "metadata": {
    "papermill": {
     "duration": 0.0057,
     "end_time": "2024-11-20T06:29:37.565831",
     "exception": false,
     "start_time": "2024-11-20T06:29:37.560131",
     "status": "completed"
    },
    "tags": []
   },
   "source": [
    "# What Kind of Problem we have to solve ?"
   ]
  },
  {
   "cell_type": "markdown",
   "id": "4ed7c7cf",
   "metadata": {
    "papermill": {
     "duration": 0.005669,
     "end_time": "2024-11-20T06:29:37.577566",
     "exception": false,
     "start_time": "2024-11-20T06:29:37.571897",
     "status": "completed"
    },
    "tags": []
   },
   "source": [
    "👉 As we can see in Salary Datset we have 2 independent variables [YearsExperience, Age] and dependent variable [Salary] \n",
    "\n",
    "* So what we have to do is Based on these 2 indepedent variables we have to predict dependent variable.\n",
    "* Linear Regression Best-fit line formula : Salary = B0 + B1(Age) + B2(Experiance)\n",
    "* here , B0= intercept, B1 and B2 are coefficients/slopes\n",
    "\n",
    "* Now, if you see, there can be a possibility that the age and experience variable themselves have a high correlation value (>90%) i.e. age and experience are internally correlated with each other. This affects the output 'salary', the features 'age' and 'experience' will be almost same thus implying that we are providing the same information to the output feature 'salary' which we want to compute.\r\n",
    "\r\n",
    "This is the problem that we have to resolve."
   ]
  },
  {
   "cell_type": "code",
   "execution_count": 5,
   "id": "3bba8a7d",
   "metadata": {
    "execution": {
     "iopub.execute_input": "2024-11-20T06:29:37.591194Z",
     "iopub.status.busy": "2024-11-20T06:29:37.590790Z",
     "iopub.status.idle": "2024-11-20T06:29:41.043555Z",
     "shell.execute_reply": "2024-11-20T06:29:41.042468Z"
    },
    "papermill": {
     "duration": 3.46258,
     "end_time": "2024-11-20T06:29:41.046290",
     "exception": false,
     "start_time": "2024-11-20T06:29:37.583710",
     "status": "completed"
    },
    "tags": []
   },
   "outputs": [],
   "source": [
    "import pandas as ps\n",
    "import statsmodels.api as sm"
   ]
  },
  {
   "cell_type": "code",
   "execution_count": 6,
   "id": "ea908ad4",
   "metadata": {
    "execution": {
     "iopub.execute_input": "2024-11-20T06:29:41.060528Z",
     "iopub.status.busy": "2024-11-20T06:29:41.059992Z",
     "iopub.status.idle": "2024-11-20T06:29:41.072888Z",
     "shell.execute_reply": "2024-11-20T06:29:41.071841Z"
    },
    "papermill": {
     "duration": 0.02256,
     "end_time": "2024-11-20T06:29:41.075089",
     "exception": false,
     "start_time": "2024-11-20T06:29:41.052529",
     "status": "completed"
    },
    "tags": []
   },
   "outputs": [
    {
     "data": {
      "text/html": [
       "<div>\n",
       "<style scoped>\n",
       "    .dataframe tbody tr th:only-of-type {\n",
       "        vertical-align: middle;\n",
       "    }\n",
       "\n",
       "    .dataframe tbody tr th {\n",
       "        vertical-align: top;\n",
       "    }\n",
       "\n",
       "    .dataframe thead th {\n",
       "        text-align: right;\n",
       "    }\n",
       "</style>\n",
       "<table border=\"1\" class=\"dataframe\">\n",
       "  <thead>\n",
       "    <tr style=\"text-align: right;\">\n",
       "      <th></th>\n",
       "      <th>Unnamed: 0</th>\n",
       "      <th>TV</th>\n",
       "      <th>Radio</th>\n",
       "      <th>Newspaper</th>\n",
       "      <th>Sales</th>\n",
       "    </tr>\n",
       "  </thead>\n",
       "  <tbody>\n",
       "    <tr>\n",
       "      <th>0</th>\n",
       "      <td>1</td>\n",
       "      <td>230.1</td>\n",
       "      <td>37.8</td>\n",
       "      <td>69.2</td>\n",
       "      <td>22.1</td>\n",
       "    </tr>\n",
       "    <tr>\n",
       "      <th>1</th>\n",
       "      <td>2</td>\n",
       "      <td>44.5</td>\n",
       "      <td>39.3</td>\n",
       "      <td>45.1</td>\n",
       "      <td>10.4</td>\n",
       "    </tr>\n",
       "    <tr>\n",
       "      <th>2</th>\n",
       "      <td>3</td>\n",
       "      <td>17.2</td>\n",
       "      <td>45.9</td>\n",
       "      <td>69.3</td>\n",
       "      <td>9.3</td>\n",
       "    </tr>\n",
       "    <tr>\n",
       "      <th>3</th>\n",
       "      <td>4</td>\n",
       "      <td>151.5</td>\n",
       "      <td>41.3</td>\n",
       "      <td>58.5</td>\n",
       "      <td>18.5</td>\n",
       "    </tr>\n",
       "    <tr>\n",
       "      <th>4</th>\n",
       "      <td>5</td>\n",
       "      <td>180.8</td>\n",
       "      <td>10.8</td>\n",
       "      <td>58.4</td>\n",
       "      <td>12.9</td>\n",
       "    </tr>\n",
       "  </tbody>\n",
       "</table>\n",
       "</div>"
      ],
      "text/plain": [
       "   Unnamed: 0     TV  Radio  Newspaper  Sales\n",
       "0           1  230.1   37.8       69.2   22.1\n",
       "1           2   44.5   39.3       45.1   10.4\n",
       "2           3   17.2   45.9       69.3    9.3\n",
       "3           4  151.5   41.3       58.5   18.5\n",
       "4           5  180.8   10.8       58.4   12.9"
      ]
     },
     "execution_count": 6,
     "metadata": {},
     "output_type": "execute_result"
    }
   ],
   "source": [
    "df1.head()"
   ]
  },
  {
   "cell_type": "markdown",
   "id": "695fc7bc",
   "metadata": {
    "papermill": {
     "duration": 0.005984,
     "end_time": "2024-11-20T06:29:41.087444",
     "exception": false,
     "start_time": "2024-11-20T06:29:41.081460",
     "status": "completed"
    },
    "tags": []
   },
   "source": [
    "# Remove irrelevant column"
   ]
  },
  {
   "cell_type": "code",
   "execution_count": 7,
   "id": "1e3ac420",
   "metadata": {
    "execution": {
     "iopub.execute_input": "2024-11-20T06:29:41.102043Z",
     "iopub.status.busy": "2024-11-20T06:29:41.101621Z",
     "iopub.status.idle": "2024-11-20T06:29:41.112952Z",
     "shell.execute_reply": "2024-11-20T06:29:41.111822Z"
    },
    "papermill": {
     "duration": 0.021693,
     "end_time": "2024-11-20T06:29:41.115248",
     "exception": false,
     "start_time": "2024-11-20T06:29:41.093555",
     "status": "completed"
    },
    "tags": []
   },
   "outputs": [],
   "source": [
    "df1.drop('Unnamed: 0', axis=1,inplace=True)"
   ]
  },
  {
   "cell_type": "code",
   "execution_count": 8,
   "id": "b4f44205",
   "metadata": {
    "execution": {
     "iopub.execute_input": "2024-11-20T06:29:41.129453Z",
     "iopub.status.busy": "2024-11-20T06:29:41.129071Z",
     "iopub.status.idle": "2024-11-20T06:29:41.140450Z",
     "shell.execute_reply": "2024-11-20T06:29:41.139204Z"
    },
    "papermill": {
     "duration": 0.021158,
     "end_time": "2024-11-20T06:29:41.142752",
     "exception": false,
     "start_time": "2024-11-20T06:29:41.121594",
     "status": "completed"
    },
    "tags": []
   },
   "outputs": [
    {
     "data": {
      "text/html": [
       "<div>\n",
       "<style scoped>\n",
       "    .dataframe tbody tr th:only-of-type {\n",
       "        vertical-align: middle;\n",
       "    }\n",
       "\n",
       "    .dataframe tbody tr th {\n",
       "        vertical-align: top;\n",
       "    }\n",
       "\n",
       "    .dataframe thead th {\n",
       "        text-align: right;\n",
       "    }\n",
       "</style>\n",
       "<table border=\"1\" class=\"dataframe\">\n",
       "  <thead>\n",
       "    <tr style=\"text-align: right;\">\n",
       "      <th></th>\n",
       "      <th>TV</th>\n",
       "      <th>Radio</th>\n",
       "      <th>Newspaper</th>\n",
       "      <th>Sales</th>\n",
       "    </tr>\n",
       "  </thead>\n",
       "  <tbody>\n",
       "    <tr>\n",
       "      <th>0</th>\n",
       "      <td>230.1</td>\n",
       "      <td>37.8</td>\n",
       "      <td>69.2</td>\n",
       "      <td>22.1</td>\n",
       "    </tr>\n",
       "  </tbody>\n",
       "</table>\n",
       "</div>"
      ],
      "text/plain": [
       "      TV  Radio  Newspaper  Sales\n",
       "0  230.1   37.8       69.2   22.1"
      ]
     },
     "execution_count": 8,
     "metadata": {},
     "output_type": "execute_result"
    }
   ],
   "source": [
    "df1.head(1)"
   ]
  },
  {
   "cell_type": "markdown",
   "id": "339e9a2f",
   "metadata": {
    "papermill": {
     "duration": 0.006008,
     "end_time": "2024-11-20T06:29:41.155332",
     "exception": false,
     "start_time": "2024-11-20T06:29:41.149324",
     "status": "completed"
    },
    "tags": []
   },
   "source": [
    "=====================================================================\n",
    "\n",
    "#### * Looking at our current dataset, TV, Radio and Newspaper are the independent varibales and Sales is the dependent variable\n",
    "#### * Based on these independent variables values we have to predict the values of dependent variable.\n",
    "\n",
    "====================================================================="
   ]
  },
  {
   "cell_type": "markdown",
   "id": "d322545d",
   "metadata": {
    "papermill": {
     "duration": 0.005998,
     "end_time": "2024-11-20T06:29:41.167608",
     "exception": false,
     "start_time": "2024-11-20T06:29:41.161610",
     "status": "completed"
    },
    "tags": []
   },
   "source": [
    "# Splitting the Data"
   ]
  },
  {
   "cell_type": "code",
   "execution_count": 9,
   "id": "7e6220d6",
   "metadata": {
    "execution": {
     "iopub.execute_input": "2024-11-20T06:29:41.182141Z",
     "iopub.status.busy": "2024-11-20T06:29:41.181706Z",
     "iopub.status.idle": "2024-11-20T06:29:41.188020Z",
     "shell.execute_reply": "2024-11-20T06:29:41.186733Z"
    },
    "papermill": {
     "duration": 0.016064,
     "end_time": "2024-11-20T06:29:41.190117",
     "exception": false,
     "start_time": "2024-11-20T06:29:41.174053",
     "status": "completed"
    },
    "tags": []
   },
   "outputs": [],
   "source": [
    "X = df1.drop('Sales', axis=1)\n",
    "y = df1['Sales']"
   ]
  },
  {
   "cell_type": "markdown",
   "id": "fdbbd2aa",
   "metadata": {
    "papermill": {
     "duration": 0.005911,
     "end_time": "2024-11-20T06:29:41.202347",
     "exception": false,
     "start_time": "2024-11-20T06:29:41.196436",
     "status": "completed"
    },
    "tags": []
   },
   "source": [
    "In this case, we will use the multiple linear regression technique 'Ordinary Least Squared'\n",
    "* Equation of Linear Regression best fit line for this dataset is : y = B0 1 + B1(TV) + B2(Radio) + B3(Newspaper)\n",
    "* Whenever computing OLS : we need to compute B0 also\n",
    "* But we dont have the B0 value here : So we will add a column for B0 value and all values in that column will be equal to 1\n",
    "* To add a constant value column for B0 with all values =1, we will use the statsmodel library"
   ]
  },
  {
   "cell_type": "code",
   "execution_count": 10,
   "id": "d8997629",
   "metadata": {
    "execution": {
     "iopub.execute_input": "2024-11-20T06:29:41.216651Z",
     "iopub.status.busy": "2024-11-20T06:29:41.215900Z",
     "iopub.status.idle": "2024-11-20T06:29:41.230705Z",
     "shell.execute_reply": "2024-11-20T06:29:41.229637Z"
    },
    "papermill": {
     "duration": 0.02442,
     "end_time": "2024-11-20T06:29:41.232811",
     "exception": false,
     "start_time": "2024-11-20T06:29:41.208391",
     "status": "completed"
    },
    "tags": []
   },
   "outputs": [
    {
     "data": {
      "text/html": [
       "<div>\n",
       "<style scoped>\n",
       "    .dataframe tbody tr th:only-of-type {\n",
       "        vertical-align: middle;\n",
       "    }\n",
       "\n",
       "    .dataframe tbody tr th {\n",
       "        vertical-align: top;\n",
       "    }\n",
       "\n",
       "    .dataframe thead th {\n",
       "        text-align: right;\n",
       "    }\n",
       "</style>\n",
       "<table border=\"1\" class=\"dataframe\">\n",
       "  <thead>\n",
       "    <tr style=\"text-align: right;\">\n",
       "      <th></th>\n",
       "      <th>const</th>\n",
       "      <th>TV</th>\n",
       "      <th>Radio</th>\n",
       "      <th>Newspaper</th>\n",
       "    </tr>\n",
       "  </thead>\n",
       "  <tbody>\n",
       "    <tr>\n",
       "      <th>0</th>\n",
       "      <td>1.0</td>\n",
       "      <td>230.1</td>\n",
       "      <td>37.8</td>\n",
       "      <td>69.2</td>\n",
       "    </tr>\n",
       "  </tbody>\n",
       "</table>\n",
       "</div>"
      ],
      "text/plain": [
       "   const     TV  Radio  Newspaper\n",
       "0    1.0  230.1   37.8       69.2"
      ]
     },
     "execution_count": 10,
     "metadata": {},
     "output_type": "execute_result"
    }
   ],
   "source": [
    "X = sm.add_constant(X)\n",
    "X.head(1)"
   ]
  },
  {
   "cell_type": "markdown",
   "id": "f97d4eb2",
   "metadata": {
    "papermill": {
     "duration": 0.006112,
     "end_time": "2024-11-20T06:29:41.245712",
     "exception": false,
     "start_time": "2024-11-20T06:29:41.239600",
     "status": "completed"
    },
    "tags": []
   },
   "source": [
    "Fit an Ordinary Least Squared Model with intercept on TV, Radio and Newspaper. We will again be using the statsmodel library for this as it has the function OLS for creating the model. Inside the OLS method we have to give endog(output feature)and exog values(input features) as parameters"
   ]
  },
  {
   "cell_type": "code",
   "execution_count": 11,
   "id": "6b32c655",
   "metadata": {
    "execution": {
     "iopub.execute_input": "2024-11-20T06:29:41.260326Z",
     "iopub.status.busy": "2024-11-20T06:29:41.259913Z",
     "iopub.status.idle": "2024-11-20T06:29:41.307760Z",
     "shell.execute_reply": "2024-11-20T06:29:41.306558Z"
    },
    "papermill": {
     "duration": 0.057865,
     "end_time": "2024-11-20T06:29:41.310029",
     "exception": false,
     "start_time": "2024-11-20T06:29:41.252164",
     "status": "completed"
    },
    "tags": []
   },
   "outputs": [
    {
     "data": {
      "text/html": [
       "<table class=\"simpletable\">\n",
       "<caption>OLS Regression Results</caption>\n",
       "<tr>\n",
       "  <th>Dep. Variable:</th>          <td>Sales</td>      <th>  R-squared:         </th> <td>   0.897</td>\n",
       "</tr>\n",
       "<tr>\n",
       "  <th>Model:</th>                   <td>OLS</td>       <th>  Adj. R-squared:    </th> <td>   0.896</td>\n",
       "</tr>\n",
       "<tr>\n",
       "  <th>Method:</th>             <td>Least Squares</td>  <th>  F-statistic:       </th> <td>   570.3</td>\n",
       "</tr>\n",
       "<tr>\n",
       "  <th>Date:</th>             <td>Wed, 20 Nov 2024</td> <th>  Prob (F-statistic):</th> <td>1.58e-96</td>\n",
       "</tr>\n",
       "<tr>\n",
       "  <th>Time:</th>                 <td>06:29:41</td>     <th>  Log-Likelihood:    </th> <td> -386.18</td>\n",
       "</tr>\n",
       "<tr>\n",
       "  <th>No. Observations:</th>      <td>   200</td>      <th>  AIC:               </th> <td>   780.4</td>\n",
       "</tr>\n",
       "<tr>\n",
       "  <th>Df Residuals:</th>          <td>   196</td>      <th>  BIC:               </th> <td>   793.6</td>\n",
       "</tr>\n",
       "<tr>\n",
       "  <th>Df Model:</th>              <td>     3</td>      <th>                     </th>     <td> </td>   \n",
       "</tr>\n",
       "<tr>\n",
       "  <th>Covariance Type:</th>      <td>nonrobust</td>    <th>                     </th>     <td> </td>   \n",
       "</tr>\n",
       "</table>\n",
       "<table class=\"simpletable\">\n",
       "<tr>\n",
       "      <td></td>         <th>coef</th>     <th>std err</th>      <th>t</th>      <th>P>|t|</th>  <th>[0.025</th>    <th>0.975]</th>  \n",
       "</tr>\n",
       "<tr>\n",
       "  <th>const</th>     <td>    2.9389</td> <td>    0.312</td> <td>    9.422</td> <td> 0.000</td> <td>    2.324</td> <td>    3.554</td>\n",
       "</tr>\n",
       "<tr>\n",
       "  <th>TV</th>        <td>    0.0458</td> <td>    0.001</td> <td>   32.809</td> <td> 0.000</td> <td>    0.043</td> <td>    0.049</td>\n",
       "</tr>\n",
       "<tr>\n",
       "  <th>Radio</th>     <td>    0.1885</td> <td>    0.009</td> <td>   21.893</td> <td> 0.000</td> <td>    0.172</td> <td>    0.206</td>\n",
       "</tr>\n",
       "<tr>\n",
       "  <th>Newspaper</th> <td>   -0.0010</td> <td>    0.006</td> <td>   -0.177</td> <td> 0.860</td> <td>   -0.013</td> <td>    0.011</td>\n",
       "</tr>\n",
       "</table>\n",
       "<table class=\"simpletable\">\n",
       "<tr>\n",
       "  <th>Omnibus:</th>       <td>60.414</td> <th>  Durbin-Watson:     </th> <td>   2.084</td>\n",
       "</tr>\n",
       "<tr>\n",
       "  <th>Prob(Omnibus):</th> <td> 0.000</td> <th>  Jarque-Bera (JB):  </th> <td> 151.241</td>\n",
       "</tr>\n",
       "<tr>\n",
       "  <th>Skew:</th>          <td>-1.327</td> <th>  Prob(JB):          </th> <td>1.44e-33</td>\n",
       "</tr>\n",
       "<tr>\n",
       "  <th>Kurtosis:</th>      <td> 6.332</td> <th>  Cond. No.          </th> <td>    454.</td>\n",
       "</tr>\n",
       "</table><br/><br/>Notes:<br/>[1] Standard Errors assume that the covariance matrix of the errors is correctly specified."
      ],
      "text/latex": [
       "\\begin{center}\n",
       "\\begin{tabular}{lclc}\n",
       "\\toprule\n",
       "\\textbf{Dep. Variable:}    &      Sales       & \\textbf{  R-squared:         } &     0.897   \\\\\n",
       "\\textbf{Model:}            &       OLS        & \\textbf{  Adj. R-squared:    } &     0.896   \\\\\n",
       "\\textbf{Method:}           &  Least Squares   & \\textbf{  F-statistic:       } &     570.3   \\\\\n",
       "\\textbf{Date:}             & Wed, 20 Nov 2024 & \\textbf{  Prob (F-statistic):} &  1.58e-96   \\\\\n",
       "\\textbf{Time:}             &     06:29:41     & \\textbf{  Log-Likelihood:    } &   -386.18   \\\\\n",
       "\\textbf{No. Observations:} &         200      & \\textbf{  AIC:               } &     780.4   \\\\\n",
       "\\textbf{Df Residuals:}     &         196      & \\textbf{  BIC:               } &     793.6   \\\\\n",
       "\\textbf{Df Model:}         &           3      & \\textbf{                     } &             \\\\\n",
       "\\textbf{Covariance Type:}  &    nonrobust     & \\textbf{                     } &             \\\\\n",
       "\\bottomrule\n",
       "\\end{tabular}\n",
       "\\begin{tabular}{lcccccc}\n",
       "                   & \\textbf{coef} & \\textbf{std err} & \\textbf{t} & \\textbf{P$> |$t$|$} & \\textbf{[0.025} & \\textbf{0.975]}  \\\\\n",
       "\\midrule\n",
       "\\textbf{const}     &       2.9389  &        0.312     &     9.422  &         0.000        &        2.324    &        3.554     \\\\\n",
       "\\textbf{TV}        &       0.0458  &        0.001     &    32.809  &         0.000        &        0.043    &        0.049     \\\\\n",
       "\\textbf{Radio}     &       0.1885  &        0.009     &    21.893  &         0.000        &        0.172    &        0.206     \\\\\n",
       "\\textbf{Newspaper} &      -0.0010  &        0.006     &    -0.177  &         0.860        &       -0.013    &        0.011     \\\\\n",
       "\\bottomrule\n",
       "\\end{tabular}\n",
       "\\begin{tabular}{lclc}\n",
       "\\textbf{Omnibus:}       & 60.414 & \\textbf{  Durbin-Watson:     } &    2.084  \\\\\n",
       "\\textbf{Prob(Omnibus):} &  0.000 & \\textbf{  Jarque-Bera (JB):  } &  151.241  \\\\\n",
       "\\textbf{Skew:}          & -1.327 & \\textbf{  Prob(JB):          } & 1.44e-33  \\\\\n",
       "\\textbf{Kurtosis:}      &  6.332 & \\textbf{  Cond. No.          } &     454.  \\\\\n",
       "\\bottomrule\n",
       "\\end{tabular}\n",
       "%\\caption{OLS Regression Results}\n",
       "\\end{center}\n",
       "\n",
       "Notes: \\newline\n",
       " [1] Standard Errors assume that the covariance matrix of the errors is correctly specified."
      ],
      "text/plain": [
       "<class 'statsmodels.iolib.summary.Summary'>\n",
       "\"\"\"\n",
       "                            OLS Regression Results                            \n",
       "==============================================================================\n",
       "Dep. Variable:                  Sales   R-squared:                       0.897\n",
       "Model:                            OLS   Adj. R-squared:                  0.896\n",
       "Method:                 Least Squares   F-statistic:                     570.3\n",
       "Date:                Wed, 20 Nov 2024   Prob (F-statistic):           1.58e-96\n",
       "Time:                        06:29:41   Log-Likelihood:                -386.18\n",
       "No. Observations:                 200   AIC:                             780.4\n",
       "Df Residuals:                     196   BIC:                             793.6\n",
       "Df Model:                           3                                         \n",
       "Covariance Type:            nonrobust                                         \n",
       "==============================================================================\n",
       "                 coef    std err          t      P>|t|      [0.025      0.975]\n",
       "------------------------------------------------------------------------------\n",
       "const          2.9389      0.312      9.422      0.000       2.324       3.554\n",
       "TV             0.0458      0.001     32.809      0.000       0.043       0.049\n",
       "Radio          0.1885      0.009     21.893      0.000       0.172       0.206\n",
       "Newspaper     -0.0010      0.006     -0.177      0.860      -0.013       0.011\n",
       "==============================================================================\n",
       "Omnibus:                       60.414   Durbin-Watson:                   2.084\n",
       "Prob(Omnibus):                  0.000   Jarque-Bera (JB):              151.241\n",
       "Skew:                          -1.327   Prob(JB):                     1.44e-33\n",
       "Kurtosis:                       6.332   Cond. No.                         454.\n",
       "==============================================================================\n",
       "\n",
       "Notes:\n",
       "[1] Standard Errors assume that the covariance matrix of the errors is correctly specified.\n",
       "\"\"\""
      ]
     },
     "execution_count": 11,
     "metadata": {},
     "output_type": "execute_result"
    }
   ],
   "source": [
    "model = sm.OLS(y, X).fit()\n",
    "model.summary()"
   ]
  },
  {
   "cell_type": "markdown",
   "id": "d9c6569a",
   "metadata": {
    "papermill": {
     "duration": 0.00689,
     "end_time": "2024-11-20T06:29:41.324427",
     "exception": false,
     "start_time": "2024-11-20T06:29:41.317537",
     "status": "completed"
    },
    "tags": []
   },
   "source": [
    "This summary helps us understand whether there is multicollinearity / high correlation between the independent features.\r\n",
    "\r\n",
    "According to the summary,\r\n",
    "\r\n",
    "B0 = coeff of const = 4.6251\r\n",
    "\r\n",
    "B1 = coeff of TV = 0.0544\r\n",
    "\r\n",
    "[coeff value means that if we change the TV expenditure(i.e. input feature) by 1 unit, the change in sales(i.e. output) will be 0.0544]\r\n",
    "\r\n",
    "B2 = coeff of Radio = 0.1070\r\n",
    "\r\n",
    "B3 = coeff of Newspaper = 0.0003\r\n",
    "B3 coeff => << 0.005 => this shows that we are making an unnecessary expenditure on Newspaper. Thus we can reduce that unnecessary expenditure done on Newspaper. Thus while creating the model, we can just drop this feature.\r\n",
    "R-squared value = 0.903 => very close to 1 => the model has fitted very well\r\n",
    "\r\n",
    "P value of const = 0\r\n",
    "\r\n",
    "P value of TV = 0\r\n",
    "P value of Radio = 0\r\n",
    "P value \n",
    "\n",
    "=> Except the feature 'Newspaper' (P-value = 0.954) , all the P values are less than 0.05\r\n",
    "\r\n",
    "std error of const = 0.308\r\n",
    "std error of TV = 0.001\r\n",
    "std error of Radio = 0.008\r\n",
    "std error of Newspaper = 0.006\r\n",
    "std error => high number(>0.5) if there is multicollinearity among the independent varibles. But here, the std error are small numbers thus indicating there is no multicollinearity among the independent variablesof Newspaper = 0.954"
   ]
  },
  {
   "cell_type": "markdown",
   "id": "35ba36ff",
   "metadata": {
    "papermill": {
     "duration": 0.006742,
     "end_time": "2024-11-20T06:29:41.338003",
     "exception": false,
     "start_time": "2024-11-20T06:29:41.331261",
     "status": "completed"
    },
    "tags": []
   },
   "source": [
    "# Plot Independent features in term of correlation"
   ]
  },
  {
   "cell_type": "code",
   "execution_count": 12,
   "id": "0db789cc",
   "metadata": {
    "execution": {
     "iopub.execute_input": "2024-11-20T06:29:41.353525Z",
     "iopub.status.busy": "2024-11-20T06:29:41.353166Z",
     "iopub.status.idle": "2024-11-20T06:29:41.366913Z",
     "shell.execute_reply": "2024-11-20T06:29:41.365724Z"
    },
    "papermill": {
     "duration": 0.024004,
     "end_time": "2024-11-20T06:29:41.369025",
     "exception": false,
     "start_time": "2024-11-20T06:29:41.345021",
     "status": "completed"
    },
    "tags": []
   },
   "outputs": [
    {
     "data": {
      "text/html": [
       "<div>\n",
       "<style scoped>\n",
       "    .dataframe tbody tr th:only-of-type {\n",
       "        vertical-align: middle;\n",
       "    }\n",
       "\n",
       "    .dataframe tbody tr th {\n",
       "        vertical-align: top;\n",
       "    }\n",
       "\n",
       "    .dataframe thead th {\n",
       "        text-align: right;\n",
       "    }\n",
       "</style>\n",
       "<table border=\"1\" class=\"dataframe\">\n",
       "  <thead>\n",
       "    <tr style=\"text-align: right;\">\n",
       "      <th></th>\n",
       "      <th>const</th>\n",
       "      <th>TV</th>\n",
       "      <th>Radio</th>\n",
       "      <th>Newspaper</th>\n",
       "    </tr>\n",
       "  </thead>\n",
       "  <tbody>\n",
       "    <tr>\n",
       "      <th>const</th>\n",
       "      <td>NaN</td>\n",
       "      <td>NaN</td>\n",
       "      <td>NaN</td>\n",
       "      <td>NaN</td>\n",
       "    </tr>\n",
       "    <tr>\n",
       "      <th>TV</th>\n",
       "      <td>NaN</td>\n",
       "      <td>1.000000</td>\n",
       "      <td>0.054809</td>\n",
       "      <td>0.056648</td>\n",
       "    </tr>\n",
       "    <tr>\n",
       "      <th>Radio</th>\n",
       "      <td>NaN</td>\n",
       "      <td>0.054809</td>\n",
       "      <td>1.000000</td>\n",
       "      <td>0.354104</td>\n",
       "    </tr>\n",
       "    <tr>\n",
       "      <th>Newspaper</th>\n",
       "      <td>NaN</td>\n",
       "      <td>0.056648</td>\n",
       "      <td>0.354104</td>\n",
       "      <td>1.000000</td>\n",
       "    </tr>\n",
       "  </tbody>\n",
       "</table>\n",
       "</div>"
      ],
      "text/plain": [
       "           const        TV     Radio  Newspaper\n",
       "const        NaN       NaN       NaN        NaN\n",
       "TV           NaN  1.000000  0.054809   0.056648\n",
       "Radio        NaN  0.054809  1.000000   0.354104\n",
       "Newspaper    NaN  0.056648  0.354104   1.000000"
      ]
     },
     "execution_count": 12,
     "metadata": {},
     "output_type": "execute_result"
    }
   ],
   "source": [
    "X.corr()"
   ]
  },
  {
   "cell_type": "markdown",
   "id": "d0769ff6",
   "metadata": {
    "papermill": {
     "duration": 0.007131,
     "end_time": "2024-11-20T06:29:41.383390",
     "exception": false,
     "start_time": "2024-11-20T06:29:41.376259",
     "status": "completed"
    },
    "tags": []
   },
   "source": [
    "Through this table, we can see the correlation values among the various independent features:\n",
    "\n",
    "* Between TV and Radio => 0.054809\n",
    "* Between Radio and Newspaper => 0.354104\n",
    "* Between TV and Newspaper => 0.056648\n",
    "This implies that none of the correlation values are >0.5. Thus indicating that there is not much correlation between the independent features and thus no multicollinearity issue among the independent features"
   ]
  },
  {
   "cell_type": "markdown",
   "id": "34cb3a93",
   "metadata": {
    "papermill": {
     "duration": 0.006826,
     "end_time": "2024-11-20T06:29:41.397336",
     "exception": false,
     "start_time": "2024-11-20T06:29:41.390510",
     "status": "completed"
    },
    "tags": []
   },
   "source": [
    "# Let's Check for Dataset 2"
   ]
  },
  {
   "cell_type": "code",
   "execution_count": 13,
   "id": "a56b470a",
   "metadata": {
    "execution": {
     "iopub.execute_input": "2024-11-20T06:29:41.413199Z",
     "iopub.status.busy": "2024-11-20T06:29:41.412818Z",
     "iopub.status.idle": "2024-11-20T06:29:41.424337Z",
     "shell.execute_reply": "2024-11-20T06:29:41.423340Z"
    },
    "papermill": {
     "duration": 0.021908,
     "end_time": "2024-11-20T06:29:41.426336",
     "exception": false,
     "start_time": "2024-11-20T06:29:41.404428",
     "status": "completed"
    },
    "tags": []
   },
   "outputs": [
    {
     "data": {
      "text/html": [
       "<div>\n",
       "<style scoped>\n",
       "    .dataframe tbody tr th:only-of-type {\n",
       "        vertical-align: middle;\n",
       "    }\n",
       "\n",
       "    .dataframe tbody tr th {\n",
       "        vertical-align: top;\n",
       "    }\n",
       "\n",
       "    .dataframe thead th {\n",
       "        text-align: right;\n",
       "    }\n",
       "</style>\n",
       "<table border=\"1\" class=\"dataframe\">\n",
       "  <thead>\n",
       "    <tr style=\"text-align: right;\">\n",
       "      <th></th>\n",
       "      <th>YearsExperience</th>\n",
       "      <th>Age</th>\n",
       "      <th>Salary</th>\n",
       "    </tr>\n",
       "  </thead>\n",
       "  <tbody>\n",
       "    <tr>\n",
       "      <th>0</th>\n",
       "      <td>1.1</td>\n",
       "      <td>21.0</td>\n",
       "      <td>39343</td>\n",
       "    </tr>\n",
       "    <tr>\n",
       "      <th>1</th>\n",
       "      <td>1.3</td>\n",
       "      <td>21.5</td>\n",
       "      <td>46205</td>\n",
       "    </tr>\n",
       "    <tr>\n",
       "      <th>2</th>\n",
       "      <td>1.5</td>\n",
       "      <td>21.7</td>\n",
       "      <td>37731</td>\n",
       "    </tr>\n",
       "    <tr>\n",
       "      <th>3</th>\n",
       "      <td>2.0</td>\n",
       "      <td>22.0</td>\n",
       "      <td>43525</td>\n",
       "    </tr>\n",
       "    <tr>\n",
       "      <th>4</th>\n",
       "      <td>2.2</td>\n",
       "      <td>22.2</td>\n",
       "      <td>39891</td>\n",
       "    </tr>\n",
       "  </tbody>\n",
       "</table>\n",
       "</div>"
      ],
      "text/plain": [
       "   YearsExperience   Age  Salary\n",
       "0              1.1  21.0   39343\n",
       "1              1.3  21.5   46205\n",
       "2              1.5  21.7   37731\n",
       "3              2.0  22.0   43525\n",
       "4              2.2  22.2   39891"
      ]
     },
     "execution_count": 13,
     "metadata": {},
     "output_type": "execute_result"
    }
   ],
   "source": [
    "df2.head()"
   ]
  },
  {
   "cell_type": "markdown",
   "id": "9b25c220",
   "metadata": {
    "papermill": {
     "duration": 0.006948,
     "end_time": "2024-11-20T06:29:41.440609",
     "exception": false,
     "start_time": "2024-11-20T06:29:41.433661",
     "status": "completed"
    },
    "tags": []
   },
   "source": [
    "In this case the independent features are 'Years of Experience' and the 'Age' and we have to predict the dependent variable 'Salary' based on these two independent features"
   ]
  },
  {
   "cell_type": "code",
   "execution_count": 14,
   "id": "32f01a05",
   "metadata": {
    "execution": {
     "iopub.execute_input": "2024-11-20T06:29:41.457517Z",
     "iopub.status.busy": "2024-11-20T06:29:41.456509Z",
     "iopub.status.idle": "2024-11-20T06:29:41.462962Z",
     "shell.execute_reply": "2024-11-20T06:29:41.461788Z"
    },
    "papermill": {
     "duration": 0.017292,
     "end_time": "2024-11-20T06:29:41.464985",
     "exception": false,
     "start_time": "2024-11-20T06:29:41.447693",
     "status": "completed"
    },
    "tags": []
   },
   "outputs": [],
   "source": [
    "X = df2.drop('Salary', axis=1)\n",
    "y = df2['Salary']"
   ]
  },
  {
   "cell_type": "code",
   "execution_count": 15,
   "id": "ce3bf141",
   "metadata": {
    "execution": {
     "iopub.execute_input": "2024-11-20T06:29:41.481410Z",
     "iopub.status.busy": "2024-11-20T06:29:41.481022Z",
     "iopub.status.idle": "2024-11-20T06:29:41.511459Z",
     "shell.execute_reply": "2024-11-20T06:29:41.510145Z"
    },
    "papermill": {
     "duration": 0.041268,
     "end_time": "2024-11-20T06:29:41.513602",
     "exception": false,
     "start_time": "2024-11-20T06:29:41.472334",
     "status": "completed"
    },
    "tags": []
   },
   "outputs": [
    {
     "data": {
      "text/html": [
       "<table class=\"simpletable\">\n",
       "<caption>OLS Regression Results</caption>\n",
       "<tr>\n",
       "  <th>Dep. Variable:</th>         <td>Salary</td>      <th>  R-squared:         </th> <td>   0.960</td>\n",
       "</tr>\n",
       "<tr>\n",
       "  <th>Model:</th>                   <td>OLS</td>       <th>  Adj. R-squared:    </th> <td>   0.957</td>\n",
       "</tr>\n",
       "<tr>\n",
       "  <th>Method:</th>             <td>Least Squares</td>  <th>  F-statistic:       </th> <td>   323.9</td>\n",
       "</tr>\n",
       "<tr>\n",
       "  <th>Date:</th>             <td>Wed, 20 Nov 2024</td> <th>  Prob (F-statistic):</th> <td>1.35e-19</td>\n",
       "</tr>\n",
       "<tr>\n",
       "  <th>Time:</th>                 <td>06:29:41</td>     <th>  Log-Likelihood:    </th> <td> -300.35</td>\n",
       "</tr>\n",
       "<tr>\n",
       "  <th>No. Observations:</th>      <td>    30</td>      <th>  AIC:               </th> <td>   606.7</td>\n",
       "</tr>\n",
       "<tr>\n",
       "  <th>Df Residuals:</th>          <td>    27</td>      <th>  BIC:               </th> <td>   610.9</td>\n",
       "</tr>\n",
       "<tr>\n",
       "  <th>Df Model:</th>              <td>     2</td>      <th>                     </th>     <td> </td>   \n",
       "</tr>\n",
       "<tr>\n",
       "  <th>Covariance Type:</th>      <td>nonrobust</td>    <th>                     </th>     <td> </td>   \n",
       "</tr>\n",
       "</table>\n",
       "<table class=\"simpletable\">\n",
       "<tr>\n",
       "         <td></td>            <th>coef</th>     <th>std err</th>      <th>t</th>      <th>P>|t|</th>  <th>[0.025</th>    <th>0.975]</th>  \n",
       "</tr>\n",
       "<tr>\n",
       "  <th>const</th>           <td>-6661.9872</td> <td> 2.28e+04</td> <td>   -0.292</td> <td> 0.773</td> <td>-5.35e+04</td> <td> 4.02e+04</td>\n",
       "</tr>\n",
       "<tr>\n",
       "  <th>YearsExperience</th> <td> 6153.3533</td> <td> 2337.092</td> <td>    2.633</td> <td> 0.014</td> <td> 1358.037</td> <td> 1.09e+04</td>\n",
       "</tr>\n",
       "<tr>\n",
       "  <th>Age</th>             <td> 1836.0136</td> <td> 1285.034</td> <td>    1.429</td> <td> 0.165</td> <td> -800.659</td> <td> 4472.686</td>\n",
       "</tr>\n",
       "</table>\n",
       "<table class=\"simpletable\">\n",
       "<tr>\n",
       "  <th>Omnibus:</th>       <td> 2.695</td> <th>  Durbin-Watson:     </th> <td>   1.711</td>\n",
       "</tr>\n",
       "<tr>\n",
       "  <th>Prob(Omnibus):</th> <td> 0.260</td> <th>  Jarque-Bera (JB):  </th> <td>   1.975</td>\n",
       "</tr>\n",
       "<tr>\n",
       "  <th>Skew:</th>          <td> 0.456</td> <th>  Prob(JB):          </th> <td>   0.372</td>\n",
       "</tr>\n",
       "<tr>\n",
       "  <th>Kurtosis:</th>      <td> 2.135</td> <th>  Cond. No.          </th> <td>    626.</td>\n",
       "</tr>\n",
       "</table><br/><br/>Notes:<br/>[1] Standard Errors assume that the covariance matrix of the errors is correctly specified."
      ],
      "text/latex": [
       "\\begin{center}\n",
       "\\begin{tabular}{lclc}\n",
       "\\toprule\n",
       "\\textbf{Dep. Variable:}    &      Salary      & \\textbf{  R-squared:         } &     0.960   \\\\\n",
       "\\textbf{Model:}            &       OLS        & \\textbf{  Adj. R-squared:    } &     0.957   \\\\\n",
       "\\textbf{Method:}           &  Least Squares   & \\textbf{  F-statistic:       } &     323.9   \\\\\n",
       "\\textbf{Date:}             & Wed, 20 Nov 2024 & \\textbf{  Prob (F-statistic):} &  1.35e-19   \\\\\n",
       "\\textbf{Time:}             &     06:29:41     & \\textbf{  Log-Likelihood:    } &   -300.35   \\\\\n",
       "\\textbf{No. Observations:} &          30      & \\textbf{  AIC:               } &     606.7   \\\\\n",
       "\\textbf{Df Residuals:}     &          27      & \\textbf{  BIC:               } &     610.9   \\\\\n",
       "\\textbf{Df Model:}         &           2      & \\textbf{                     } &             \\\\\n",
       "\\textbf{Covariance Type:}  &    nonrobust     & \\textbf{                     } &             \\\\\n",
       "\\bottomrule\n",
       "\\end{tabular}\n",
       "\\begin{tabular}{lcccccc}\n",
       "                         & \\textbf{coef} & \\textbf{std err} & \\textbf{t} & \\textbf{P$> |$t$|$} & \\textbf{[0.025} & \\textbf{0.975]}  \\\\\n",
       "\\midrule\n",
       "\\textbf{const}           &   -6661.9872  &     2.28e+04     &    -0.292  &         0.773        &    -5.35e+04    &     4.02e+04     \\\\\n",
       "\\textbf{YearsExperience} &    6153.3533  &     2337.092     &     2.633  &         0.014        &     1358.037    &     1.09e+04     \\\\\n",
       "\\textbf{Age}             &    1836.0136  &     1285.034     &     1.429  &         0.165        &     -800.659    &     4472.686     \\\\\n",
       "\\bottomrule\n",
       "\\end{tabular}\n",
       "\\begin{tabular}{lclc}\n",
       "\\textbf{Omnibus:}       &  2.695 & \\textbf{  Durbin-Watson:     } &    1.711  \\\\\n",
       "\\textbf{Prob(Omnibus):} &  0.260 & \\textbf{  Jarque-Bera (JB):  } &    1.975  \\\\\n",
       "\\textbf{Skew:}          &  0.456 & \\textbf{  Prob(JB):          } &    0.372  \\\\\n",
       "\\textbf{Kurtosis:}      &  2.135 & \\textbf{  Cond. No.          } &     626.  \\\\\n",
       "\\bottomrule\n",
       "\\end{tabular}\n",
       "%\\caption{OLS Regression Results}\n",
       "\\end{center}\n",
       "\n",
       "Notes: \\newline\n",
       " [1] Standard Errors assume that the covariance matrix of the errors is correctly specified."
      ],
      "text/plain": [
       "<class 'statsmodels.iolib.summary.Summary'>\n",
       "\"\"\"\n",
       "                            OLS Regression Results                            \n",
       "==============================================================================\n",
       "Dep. Variable:                 Salary   R-squared:                       0.960\n",
       "Model:                            OLS   Adj. R-squared:                  0.957\n",
       "Method:                 Least Squares   F-statistic:                     323.9\n",
       "Date:                Wed, 20 Nov 2024   Prob (F-statistic):           1.35e-19\n",
       "Time:                        06:29:41   Log-Likelihood:                -300.35\n",
       "No. Observations:                  30   AIC:                             606.7\n",
       "Df Residuals:                      27   BIC:                             610.9\n",
       "Df Model:                           2                                         \n",
       "Covariance Type:            nonrobust                                         \n",
       "===================================================================================\n",
       "                      coef    std err          t      P>|t|      [0.025      0.975]\n",
       "-----------------------------------------------------------------------------------\n",
       "const           -6661.9872   2.28e+04     -0.292      0.773   -5.35e+04    4.02e+04\n",
       "YearsExperience  6153.3533   2337.092      2.633      0.014    1358.037    1.09e+04\n",
       "Age              1836.0136   1285.034      1.429      0.165    -800.659    4472.686\n",
       "==============================================================================\n",
       "Omnibus:                        2.695   Durbin-Watson:                   1.711\n",
       "Prob(Omnibus):                  0.260   Jarque-Bera (JB):                1.975\n",
       "Skew:                           0.456   Prob(JB):                        0.372\n",
       "Kurtosis:                       2.135   Cond. No.                         626.\n",
       "==============================================================================\n",
       "\n",
       "Notes:\n",
       "[1] Standard Errors assume that the covariance matrix of the errors is correctly specified.\n",
       "\"\"\""
      ]
     },
     "execution_count": 15,
     "metadata": {},
     "output_type": "execute_result"
    }
   ],
   "source": [
    "X = sm.add_constant(X)\n",
    "model = sm.OLS(y, X).fit()\n",
    "model.summary()"
   ]
  },
  {
   "cell_type": "markdown",
   "id": "dc7a4d6d",
   "metadata": {
    "papermill": {
     "duration": 0.007141,
     "end_time": "2024-11-20T06:29:41.528343",
     "exception": false,
     "start_time": "2024-11-20T06:29:41.521202",
     "status": "completed"
    },
    "tags": []
   },
   "source": [
    "In this scenario, According to the summary,\r\n",
    "\r\n",
    "B0 = coeff of const = -6661.9872\r\n",
    "\r\n",
    "B1 = coeff of YearsofExperience = 6153.3533\r\n",
    "\r\n",
    "[this coeff value means that if we change the YearsOfExperience(i.e. input feature) by 1 unit, the change in salary(i.e. output) will be 6153.3533]\r\n",
    "\r\n",
    "B2 = coeff of Age = 1836.0136\r\n",
    "\r\n",
    "[thus if we change the Age(i.e. input feature) by 1 unit(1 year), the change in salary(i.e. output) will be 6153.3533]\r\n",
    "R-squared value = 0.960 => very close to 1 => the model has fitted very well\r\n",
    "\r\n",
    "P value of const = 0.773\r\n",
    "\r\n",
    "P value of YearsOfExperience = 0.014\r\n",
    "P value of Age = 0.165\r\n",
    "=> for Age => the P-value is >0.05 => Age and YearsOfExperience may have some kind of correlation\r\n",
    "\r\n",
    "std error of const = 0.308\r\n",
    "std error of YearsOfExperience = 2337.092\r\n",
    "std er\n",
    "\n",
    "Here we can see the std errors of both YearsOfExperience and Age are very very high, thus indicating that there is a huge Multicollinearity among themror of Age = 1285.034"
   ]
  },
  {
   "cell_type": "markdown",
   "id": "6d6b0845",
   "metadata": {
    "papermill": {
     "duration": 0.007521,
     "end_time": "2024-11-20T06:29:41.543148",
     "exception": false,
     "start_time": "2024-11-20T06:29:41.535627",
     "status": "completed"
    },
    "tags": []
   },
   "source": [
    "#### Confirming the multicollinearity between Age and YearsOfExperience by plotting the correlation table"
   ]
  },
  {
   "cell_type": "code",
   "execution_count": 16,
   "id": "ce74d34b",
   "metadata": {
    "execution": {
     "iopub.execute_input": "2024-11-20T06:29:41.559630Z",
     "iopub.status.busy": "2024-11-20T06:29:41.559210Z",
     "iopub.status.idle": "2024-11-20T06:29:41.570205Z",
     "shell.execute_reply": "2024-11-20T06:29:41.568966Z"
    },
    "papermill": {
     "duration": 0.022448,
     "end_time": "2024-11-20T06:29:41.572988",
     "exception": false,
     "start_time": "2024-11-20T06:29:41.550540",
     "status": "completed"
    },
    "tags": []
   },
   "outputs": [
    {
     "data": {
      "text/html": [
       "<div>\n",
       "<style scoped>\n",
       "    .dataframe tbody tr th:only-of-type {\n",
       "        vertical-align: middle;\n",
       "    }\n",
       "\n",
       "    .dataframe tbody tr th {\n",
       "        vertical-align: top;\n",
       "    }\n",
       "\n",
       "    .dataframe thead th {\n",
       "        text-align: right;\n",
       "    }\n",
       "</style>\n",
       "<table border=\"1\" class=\"dataframe\">\n",
       "  <thead>\n",
       "    <tr style=\"text-align: right;\">\n",
       "      <th></th>\n",
       "      <th>const</th>\n",
       "      <th>YearsExperience</th>\n",
       "      <th>Age</th>\n",
       "    </tr>\n",
       "  </thead>\n",
       "  <tbody>\n",
       "    <tr>\n",
       "      <th>const</th>\n",
       "      <td>NaN</td>\n",
       "      <td>NaN</td>\n",
       "      <td>NaN</td>\n",
       "    </tr>\n",
       "    <tr>\n",
       "      <th>YearsExperience</th>\n",
       "      <td>NaN</td>\n",
       "      <td>1.000000</td>\n",
       "      <td>0.987258</td>\n",
       "    </tr>\n",
       "    <tr>\n",
       "      <th>Age</th>\n",
       "      <td>NaN</td>\n",
       "      <td>0.987258</td>\n",
       "      <td>1.000000</td>\n",
       "    </tr>\n",
       "  </tbody>\n",
       "</table>\n",
       "</div>"
      ],
      "text/plain": [
       "                 const  YearsExperience       Age\n",
       "const              NaN              NaN       NaN\n",
       "YearsExperience    NaN         1.000000  0.987258\n",
       "Age                NaN         0.987258  1.000000"
      ]
     },
     "execution_count": 16,
     "metadata": {},
     "output_type": "execute_result"
    }
   ],
   "source": [
    "X.corr()"
   ]
  },
  {
   "cell_type": "markdown",
   "id": "ad736b7f",
   "metadata": {
    "papermill": {
     "duration": 0.007389,
     "end_time": "2024-11-20T06:29:41.588688",
     "exception": false,
     "start_time": "2024-11-20T06:29:41.581299",
     "status": "completed"
    },
    "tags": []
   },
   "source": [
    "With the help of this Correlation Table / Matrix we can imply that age and yearsofexperience have 98% correlation (very highly correlated). This implies that taking one of these features will be more than enough to predict the salary.\n",
    "\r\n",
    "Now the Question is which of the input features (YearsOfExperience and Age) to keep and which one to drop for the final prediction of salary\r\n",
    "Remedy for this Multicollinearity proble\n",
    "m:\r\n",
    "Solution 1 : Dont do anything, keep things as it is and don't care about multicollinearity and take all the input features to create the model\r\n",
    "\r\n",
    "Solution 2 : Check the P values for Age and YearsOfExperience. P value of Age > P value of YearsOfExperience. Thus drop the 'Age' feature. This will not have much effect on the model as the correlation is about 98%. Thus the whole model can be trained just by considering the feature 'YearsOfExperience'"
   ]
  },
  {
   "cell_type": "code",
   "execution_count": null,
   "id": "2675ae4c",
   "metadata": {
    "papermill": {
     "duration": 0.007224,
     "end_time": "2024-11-20T06:29:41.603529",
     "exception": false,
     "start_time": "2024-11-20T06:29:41.596305",
     "status": "completed"
    },
    "tags": []
   },
   "outputs": [],
   "source": []
  }
 ],
 "metadata": {
  "kaggle": {
   "accelerator": "none",
   "dataSources": [
    {
     "datasetId": 6124702,
     "sourceId": 9958131,
     "sourceType": "datasetVersion"
    },
    {
     "datasetId": 6124746,
     "sourceId": 9958182,
     "sourceType": "datasetVersion"
    }
   ],
   "dockerImageVersionId": 30786,
   "isGpuEnabled": false,
   "isInternetEnabled": true,
   "language": "python",
   "sourceType": "notebook"
  },
  "kernelspec": {
   "display_name": "Python 3",
   "language": "python",
   "name": "python3"
  },
  "language_info": {
   "codemirror_mode": {
    "name": "ipython",
    "version": 3
   },
   "file_extension": ".py",
   "mimetype": "text/x-python",
   "name": "python",
   "nbconvert_exporter": "python",
   "pygments_lexer": "ipython3",
   "version": "3.10.14"
  },
  "papermill": {
   "default_parameters": {},
   "duration": 8.718258,
   "end_time": "2024-11-20T06:29:42.232641",
   "environment_variables": {},
   "exception": null,
   "input_path": "__notebook__.ipynb",
   "output_path": "__notebook__.ipynb",
   "parameters": {},
   "start_time": "2024-11-20T06:29:33.514383",
   "version": "2.6.0"
  }
 },
 "nbformat": 4,
 "nbformat_minor": 5
}
